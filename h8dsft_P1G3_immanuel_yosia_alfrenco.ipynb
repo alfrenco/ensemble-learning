{
  "cells": [
    {
      "cell_type": "markdown",
      "metadata": {
        "id": "gmRhoGbxsIEO"
      },
      "source": [
        "# Query"
      ]
    },
    {
      "cell_type": "markdown",
      "metadata": {
        "id": "OdNOjzNdtOYl"
      },
      "source": [
        "select * from `ftds-hacktiv8-project.phase1_ftds_015_rmt.heart-failure`"
      ]
    },
    {
      "cell_type": "markdown",
      "metadata": {
        "id": "Qi3Ar1A8sIHE"
      },
      "source": [
        "# Perkenalan"
      ]
    },
    {
      "cell_type": "markdown",
      "metadata": {
        "id": "GxIopc0ktmsl"
      },
      "source": [
        "Nama      : Immanuel Yosia Alfrenco\n",
        "\n",
        "Batch     : FTDS-015\n",
        "\n",
        "Dataset   : Heart-Failure Dataset\n",
        "\n",
        "Objective : Membuat model Classification menggunakan Random Forest dan salah satu algoritma boosting untuk memprediksi apakah seorang pasien akan meninggal atau tidak menggunakan dataset yang sudah Anda dapatkan.\n"
      ]
    },
    {
      "cell_type": "markdown",
      "metadata": {
        "id": "Rh5sXSPKsIJr"
      },
      "source": [
        "# Import Libraries"
      ]
    },
    {
      "cell_type": "code",
      "execution_count": 1,
      "metadata": {
        "colab": {
          "base_uri": "https://localhost:8080/"
        },
        "id": "o8Cian0zuTTy",
        "outputId": "42582975-644a-4e64-a0b5-97b8825bc9a1"
      },
      "outputs": [
        {
          "name": "stdout",
          "output_type": "stream",
          "text": [
            "Looking in indexes: https://pypi.org/simple, https://us-python.pkg.dev/colab-wheels/public/simple/\n",
            "Collecting feature-engine\n",
            "  Downloading feature_engine-1.4.0-py2.py3-none-any.whl (276 kB)\n",
            "\u001b[K     |████████████████████████████████| 276 kB 17.0 MB/s \n",
            "\u001b[?25hRequirement already satisfied: pandas>=1.0.3 in /usr/local/lib/python3.7/dist-packages (from feature-engine) (1.3.5)\n",
            "Requirement already satisfied: statsmodels>=0.11.1 in /usr/local/lib/python3.7/dist-packages (from feature-engine) (0.12.2)\n",
            "Requirement already satisfied: numpy>=1.18.2 in /usr/local/lib/python3.7/dist-packages (from feature-engine) (1.21.6)\n",
            "Requirement already satisfied: scipy>=1.4.1 in /usr/local/lib/python3.7/dist-packages (from feature-engine) (1.7.3)\n",
            "Requirement already satisfied: scikit-learn>=1.0.0 in /usr/local/lib/python3.7/dist-packages (from feature-engine) (1.0.2)\n",
            "Requirement already satisfied: python-dateutil>=2.7.3 in /usr/local/lib/python3.7/dist-packages (from pandas>=1.0.3->feature-engine) (2.8.2)\n",
            "Requirement already satisfied: pytz>=2017.3 in /usr/local/lib/python3.7/dist-packages (from pandas>=1.0.3->feature-engine) (2022.2.1)\n",
            "Requirement already satisfied: six>=1.5 in /usr/local/lib/python3.7/dist-packages (from python-dateutil>=2.7.3->pandas>=1.0.3->feature-engine) (1.15.0)\n",
            "Requirement already satisfied: joblib>=0.11 in /usr/local/lib/python3.7/dist-packages (from scikit-learn>=1.0.0->feature-engine) (1.1.0)\n",
            "Requirement already satisfied: threadpoolctl>=2.0.0 in /usr/local/lib/python3.7/dist-packages (from scikit-learn>=1.0.0->feature-engine) (3.1.0)\n",
            "Requirement already satisfied: patsy>=0.5 in /usr/local/lib/python3.7/dist-packages (from statsmodels>=0.11.1->feature-engine) (0.5.2)\n",
            "Installing collected packages: feature-engine\n",
            "Successfully installed feature-engine-1.4.0\n"
          ]
        }
      ],
      "source": [
        "!pip install feature-engine"
      ]
    },
    {
      "cell_type": "code",
      "execution_count": 2,
      "metadata": {
        "id": "Xgtf7HK6uSgN"
      },
      "outputs": [],
      "source": [
        "# Import libraries\n",
        "\n",
        "import pandas as pd\n",
        "import numpy as np\n",
        "import matplotlib.pyplot as plt\n",
        "import seaborn as sns\n",
        "import scipy.stats as stats\n",
        "\n",
        "import warnings\n",
        "warnings.filterwarnings('ignore')\n",
        "\n",
        "# Untuk membuat model\n",
        "from sklearn.ensemble import RandomForestClassifier\n",
        "from sklearn.compose import ColumnTransformer\n",
        "from sklearn.pipeline import Pipeline\n",
        "from xgboost import XGBClassifier\n",
        "from sklearn.model_selection import GridSearchCV\n",
        "\n",
        "# Untuk menyiapkan dataset\n",
        "from sklearn.model_selection import train_test_split\n",
        "from feature_engine.outliers import Winsorizer\n",
        "from sklearn.preprocessing import MinMaxScaler\n",
        "from sklearn.preprocessing import StandardScaler\n",
        "\n",
        "\n",
        "# Untuk evaluasi model\n",
        "from sklearn.metrics import ConfusionMatrixDisplay\n",
        "from sklearn.metrics import classification_report\n",
        "from sklearn.model_selection import cross_val_score"
      ]
    },
    {
      "cell_type": "markdown",
      "metadata": {
        "id": "Kj0CcgxAsIMD"
      },
      "source": [
        "# Data Loading"
      ]
    },
    {
      "cell_type": "code",
      "execution_count": 3,
      "metadata": {
        "id": "JCmTmx0PuYND"
      },
      "outputs": [],
      "source": [
        "# Import data CSV\n",
        "data_ori = pd.read_csv('h8dsft_P1G3_immanuel_yosia_alfrenco.csv')"
      ]
    },
    {
      "cell_type": "code",
      "execution_count": 4,
      "metadata": {
        "id": "4hpiYmA_uefa"
      },
      "outputs": [],
      "source": [
        "# Melakukan duplikasi data untuk backup\n",
        "data = data_ori.copy()"
      ]
    },
    {
      "cell_type": "markdown",
      "metadata": {
        "id": "RUwr0VRT761x"
      },
      "source": [
        "Setelah data berhasil diimport saya akan mengecek head, tail dan informasi dasar dari data kita."
      ]
    },
    {
      "cell_type": "code",
      "execution_count": 5,
      "metadata": {
        "colab": {
          "base_uri": "https://localhost:8080/",
          "height": 270
        },
        "id": "WcWfw0g5uhP9",
        "outputId": "ba95a85c-4479-4a3d-c3f5-43c5b1e648f6"
      },
      "outputs": [
        {
          "data": {
            "text/html": [
              "\n",
              "  <div id=\"df-1118afb4-6eb2-408c-b178-5a1262952491\">\n",
              "    <div class=\"colab-df-container\">\n",
              "      <div>\n",
              "<style scoped>\n",
              "    .dataframe tbody tr th:only-of-type {\n",
              "        vertical-align: middle;\n",
              "    }\n",
              "\n",
              "    .dataframe tbody tr th {\n",
              "        vertical-align: top;\n",
              "    }\n",
              "\n",
              "    .dataframe thead th {\n",
              "        text-align: right;\n",
              "    }\n",
              "</style>\n",
              "<table border=\"1\" class=\"dataframe\">\n",
              "  <thead>\n",
              "    <tr style=\"text-align: right;\">\n",
              "      <th></th>\n",
              "      <th>age</th>\n",
              "      <th>anaemia</th>\n",
              "      <th>creatinine_phosphokinase</th>\n",
              "      <th>diabetes</th>\n",
              "      <th>ejection_fraction</th>\n",
              "      <th>high_blood_pressure</th>\n",
              "      <th>platelets</th>\n",
              "      <th>serum_creatinine</th>\n",
              "      <th>serum_sodium</th>\n",
              "      <th>sex</th>\n",
              "      <th>smoking</th>\n",
              "      <th>time</th>\n",
              "      <th>DEATH_EVENT</th>\n",
              "    </tr>\n",
              "  </thead>\n",
              "  <tbody>\n",
              "    <tr>\n",
              "      <th>0</th>\n",
              "      <td>42.0</td>\n",
              "      <td>1</td>\n",
              "      <td>250</td>\n",
              "      <td>1</td>\n",
              "      <td>15</td>\n",
              "      <td>0</td>\n",
              "      <td>213000.0</td>\n",
              "      <td>1.3</td>\n",
              "      <td>136</td>\n",
              "      <td>0</td>\n",
              "      <td>0</td>\n",
              "      <td>65</td>\n",
              "      <td>1</td>\n",
              "    </tr>\n",
              "    <tr>\n",
              "      <th>1</th>\n",
              "      <td>46.0</td>\n",
              "      <td>0</td>\n",
              "      <td>168</td>\n",
              "      <td>1</td>\n",
              "      <td>17</td>\n",
              "      <td>1</td>\n",
              "      <td>271000.0</td>\n",
              "      <td>2.1</td>\n",
              "      <td>124</td>\n",
              "      <td>0</td>\n",
              "      <td>0</td>\n",
              "      <td>100</td>\n",
              "      <td>1</td>\n",
              "    </tr>\n",
              "    <tr>\n",
              "      <th>2</th>\n",
              "      <td>65.0</td>\n",
              "      <td>1</td>\n",
              "      <td>160</td>\n",
              "      <td>1</td>\n",
              "      <td>20</td>\n",
              "      <td>0</td>\n",
              "      <td>327000.0</td>\n",
              "      <td>2.7</td>\n",
              "      <td>116</td>\n",
              "      <td>0</td>\n",
              "      <td>0</td>\n",
              "      <td>8</td>\n",
              "      <td>1</td>\n",
              "    </tr>\n",
              "    <tr>\n",
              "      <th>3</th>\n",
              "      <td>53.0</td>\n",
              "      <td>1</td>\n",
              "      <td>91</td>\n",
              "      <td>0</td>\n",
              "      <td>20</td>\n",
              "      <td>1</td>\n",
              "      <td>418000.0</td>\n",
              "      <td>1.4</td>\n",
              "      <td>139</td>\n",
              "      <td>0</td>\n",
              "      <td>0</td>\n",
              "      <td>43</td>\n",
              "      <td>1</td>\n",
              "    </tr>\n",
              "    <tr>\n",
              "      <th>4</th>\n",
              "      <td>50.0</td>\n",
              "      <td>1</td>\n",
              "      <td>582</td>\n",
              "      <td>1</td>\n",
              "      <td>20</td>\n",
              "      <td>1</td>\n",
              "      <td>279000.0</td>\n",
              "      <td>1.0</td>\n",
              "      <td>134</td>\n",
              "      <td>0</td>\n",
              "      <td>0</td>\n",
              "      <td>186</td>\n",
              "      <td>0</td>\n",
              "    </tr>\n",
              "  </tbody>\n",
              "</table>\n",
              "</div>\n",
              "      <button class=\"colab-df-convert\" onclick=\"convertToInteractive('df-1118afb4-6eb2-408c-b178-5a1262952491')\"\n",
              "              title=\"Convert this dataframe to an interactive table.\"\n",
              "              style=\"display:none;\">\n",
              "        \n",
              "  <svg xmlns=\"http://www.w3.org/2000/svg\" height=\"24px\"viewBox=\"0 0 24 24\"\n",
              "       width=\"24px\">\n",
              "    <path d=\"M0 0h24v24H0V0z\" fill=\"none\"/>\n",
              "    <path d=\"M18.56 5.44l.94 2.06.94-2.06 2.06-.94-2.06-.94-.94-2.06-.94 2.06-2.06.94zm-11 1L8.5 8.5l.94-2.06 2.06-.94-2.06-.94L8.5 2.5l-.94 2.06-2.06.94zm10 10l.94 2.06.94-2.06 2.06-.94-2.06-.94-.94-2.06-.94 2.06-2.06.94z\"/><path d=\"M17.41 7.96l-1.37-1.37c-.4-.4-.92-.59-1.43-.59-.52 0-1.04.2-1.43.59L10.3 9.45l-7.72 7.72c-.78.78-.78 2.05 0 2.83L4 21.41c.39.39.9.59 1.41.59.51 0 1.02-.2 1.41-.59l7.78-7.78 2.81-2.81c.8-.78.8-2.07 0-2.86zM5.41 20L4 18.59l7.72-7.72 1.47 1.35L5.41 20z\"/>\n",
              "  </svg>\n",
              "      </button>\n",
              "      \n",
              "  <style>\n",
              "    .colab-df-container {\n",
              "      display:flex;\n",
              "      flex-wrap:wrap;\n",
              "      gap: 12px;\n",
              "    }\n",
              "\n",
              "    .colab-df-convert {\n",
              "      background-color: #E8F0FE;\n",
              "      border: none;\n",
              "      border-radius: 50%;\n",
              "      cursor: pointer;\n",
              "      display: none;\n",
              "      fill: #1967D2;\n",
              "      height: 32px;\n",
              "      padding: 0 0 0 0;\n",
              "      width: 32px;\n",
              "    }\n",
              "\n",
              "    .colab-df-convert:hover {\n",
              "      background-color: #E2EBFA;\n",
              "      box-shadow: 0px 1px 2px rgba(60, 64, 67, 0.3), 0px 1px 3px 1px rgba(60, 64, 67, 0.15);\n",
              "      fill: #174EA6;\n",
              "    }\n",
              "\n",
              "    [theme=dark] .colab-df-convert {\n",
              "      background-color: #3B4455;\n",
              "      fill: #D2E3FC;\n",
              "    }\n",
              "\n",
              "    [theme=dark] .colab-df-convert:hover {\n",
              "      background-color: #434B5C;\n",
              "      box-shadow: 0px 1px 3px 1px rgba(0, 0, 0, 0.15);\n",
              "      filter: drop-shadow(0px 1px 2px rgba(0, 0, 0, 0.3));\n",
              "      fill: #FFFFFF;\n",
              "    }\n",
              "  </style>\n",
              "\n",
              "      <script>\n",
              "        const buttonEl =\n",
              "          document.querySelector('#df-1118afb4-6eb2-408c-b178-5a1262952491 button.colab-df-convert');\n",
              "        buttonEl.style.display =\n",
              "          google.colab.kernel.accessAllowed ? 'block' : 'none';\n",
              "\n",
              "        async function convertToInteractive(key) {\n",
              "          const element = document.querySelector('#df-1118afb4-6eb2-408c-b178-5a1262952491');\n",
              "          const dataTable =\n",
              "            await google.colab.kernel.invokeFunction('convertToInteractive',\n",
              "                                                     [key], {});\n",
              "          if (!dataTable) return;\n",
              "\n",
              "          const docLinkHtml = 'Like what you see? Visit the ' +\n",
              "            '<a target=\"_blank\" href=https://colab.research.google.com/notebooks/data_table.ipynb>data table notebook</a>'\n",
              "            + ' to learn more about interactive tables.';\n",
              "          element.innerHTML = '';\n",
              "          dataTable['output_type'] = 'display_data';\n",
              "          await google.colab.output.renderOutput(dataTable, element);\n",
              "          const docLink = document.createElement('div');\n",
              "          docLink.innerHTML = docLinkHtml;\n",
              "          element.appendChild(docLink);\n",
              "        }\n",
              "      </script>\n",
              "    </div>\n",
              "  </div>\n",
              "  "
            ],
            "text/plain": [
              "    age  anaemia  creatinine_phosphokinase  diabetes  ejection_fraction  \\\n",
              "0  42.0        1                       250         1                 15   \n",
              "1  46.0        0                       168         1                 17   \n",
              "2  65.0        1                       160         1                 20   \n",
              "3  53.0        1                        91         0                 20   \n",
              "4  50.0        1                       582         1                 20   \n",
              "\n",
              "   high_blood_pressure  platelets  serum_creatinine  serum_sodium  sex  \\\n",
              "0                    0   213000.0               1.3           136    0   \n",
              "1                    1   271000.0               2.1           124    0   \n",
              "2                    0   327000.0               2.7           116    0   \n",
              "3                    1   418000.0               1.4           139    0   \n",
              "4                    1   279000.0               1.0           134    0   \n",
              "\n",
              "   smoking  time  DEATH_EVENT  \n",
              "0        0    65            1  \n",
              "1        0   100            1  \n",
              "2        0     8            1  \n",
              "3        0    43            1  \n",
              "4        0   186            0  "
            ]
          },
          "execution_count": 5,
          "metadata": {},
          "output_type": "execute_result"
        }
      ],
      "source": [
        "data.head()"
      ]
    },
    {
      "cell_type": "code",
      "execution_count": 6,
      "metadata": {
        "colab": {
          "base_uri": "https://localhost:8080/",
          "height": 270
        },
        "id": "-4exS3VJujfv",
        "outputId": "0dc3dcec-2da7-44de-d07a-31ff070e3509"
      },
      "outputs": [
        {
          "data": {
            "text/html": [
              "\n",
              "  <div id=\"df-5669579b-a54d-4c6d-9b82-7a835270d7ad\">\n",
              "    <div class=\"colab-df-container\">\n",
              "      <div>\n",
              "<style scoped>\n",
              "    .dataframe tbody tr th:only-of-type {\n",
              "        vertical-align: middle;\n",
              "    }\n",
              "\n",
              "    .dataframe tbody tr th {\n",
              "        vertical-align: top;\n",
              "    }\n",
              "\n",
              "    .dataframe thead th {\n",
              "        text-align: right;\n",
              "    }\n",
              "</style>\n",
              "<table border=\"1\" class=\"dataframe\">\n",
              "  <thead>\n",
              "    <tr style=\"text-align: right;\">\n",
              "      <th></th>\n",
              "      <th>age</th>\n",
              "      <th>anaemia</th>\n",
              "      <th>creatinine_phosphokinase</th>\n",
              "      <th>diabetes</th>\n",
              "      <th>ejection_fraction</th>\n",
              "      <th>high_blood_pressure</th>\n",
              "      <th>platelets</th>\n",
              "      <th>serum_creatinine</th>\n",
              "      <th>serum_sodium</th>\n",
              "      <th>sex</th>\n",
              "      <th>smoking</th>\n",
              "      <th>time</th>\n",
              "      <th>DEATH_EVENT</th>\n",
              "    </tr>\n",
              "  </thead>\n",
              "  <tbody>\n",
              "    <tr>\n",
              "      <th>294</th>\n",
              "      <td>63.0</td>\n",
              "      <td>1</td>\n",
              "      <td>122</td>\n",
              "      <td>1</td>\n",
              "      <td>60</td>\n",
              "      <td>0</td>\n",
              "      <td>267000.00</td>\n",
              "      <td>1.2</td>\n",
              "      <td>145</td>\n",
              "      <td>1</td>\n",
              "      <td>0</td>\n",
              "      <td>147</td>\n",
              "      <td>0</td>\n",
              "    </tr>\n",
              "    <tr>\n",
              "      <th>295</th>\n",
              "      <td>45.0</td>\n",
              "      <td>0</td>\n",
              "      <td>308</td>\n",
              "      <td>1</td>\n",
              "      <td>60</td>\n",
              "      <td>1</td>\n",
              "      <td>377000.00</td>\n",
              "      <td>1.0</td>\n",
              "      <td>136</td>\n",
              "      <td>1</td>\n",
              "      <td>0</td>\n",
              "      <td>186</td>\n",
              "      <td>0</td>\n",
              "    </tr>\n",
              "    <tr>\n",
              "      <th>296</th>\n",
              "      <td>70.0</td>\n",
              "      <td>0</td>\n",
              "      <td>97</td>\n",
              "      <td>0</td>\n",
              "      <td>60</td>\n",
              "      <td>1</td>\n",
              "      <td>220000.00</td>\n",
              "      <td>0.9</td>\n",
              "      <td>138</td>\n",
              "      <td>1</td>\n",
              "      <td>0</td>\n",
              "      <td>186</td>\n",
              "      <td>0</td>\n",
              "    </tr>\n",
              "    <tr>\n",
              "      <th>297</th>\n",
              "      <td>53.0</td>\n",
              "      <td>1</td>\n",
              "      <td>446</td>\n",
              "      <td>0</td>\n",
              "      <td>60</td>\n",
              "      <td>1</td>\n",
              "      <td>263358.03</td>\n",
              "      <td>1.0</td>\n",
              "      <td>139</td>\n",
              "      <td>1</td>\n",
              "      <td>0</td>\n",
              "      <td>215</td>\n",
              "      <td>0</td>\n",
              "    </tr>\n",
              "    <tr>\n",
              "      <th>298</th>\n",
              "      <td>50.0</td>\n",
              "      <td>0</td>\n",
              "      <td>582</td>\n",
              "      <td>0</td>\n",
              "      <td>62</td>\n",
              "      <td>1</td>\n",
              "      <td>147000.00</td>\n",
              "      <td>0.8</td>\n",
              "      <td>140</td>\n",
              "      <td>1</td>\n",
              "      <td>1</td>\n",
              "      <td>192</td>\n",
              "      <td>0</td>\n",
              "    </tr>\n",
              "  </tbody>\n",
              "</table>\n",
              "</div>\n",
              "      <button class=\"colab-df-convert\" onclick=\"convertToInteractive('df-5669579b-a54d-4c6d-9b82-7a835270d7ad')\"\n",
              "              title=\"Convert this dataframe to an interactive table.\"\n",
              "              style=\"display:none;\">\n",
              "        \n",
              "  <svg xmlns=\"http://www.w3.org/2000/svg\" height=\"24px\"viewBox=\"0 0 24 24\"\n",
              "       width=\"24px\">\n",
              "    <path d=\"M0 0h24v24H0V0z\" fill=\"none\"/>\n",
              "    <path d=\"M18.56 5.44l.94 2.06.94-2.06 2.06-.94-2.06-.94-.94-2.06-.94 2.06-2.06.94zm-11 1L8.5 8.5l.94-2.06 2.06-.94-2.06-.94L8.5 2.5l-.94 2.06-2.06.94zm10 10l.94 2.06.94-2.06 2.06-.94-2.06-.94-.94-2.06-.94 2.06-2.06.94z\"/><path d=\"M17.41 7.96l-1.37-1.37c-.4-.4-.92-.59-1.43-.59-.52 0-1.04.2-1.43.59L10.3 9.45l-7.72 7.72c-.78.78-.78 2.05 0 2.83L4 21.41c.39.39.9.59 1.41.59.51 0 1.02-.2 1.41-.59l7.78-7.78 2.81-2.81c.8-.78.8-2.07 0-2.86zM5.41 20L4 18.59l7.72-7.72 1.47 1.35L5.41 20z\"/>\n",
              "  </svg>\n",
              "      </button>\n",
              "      \n",
              "  <style>\n",
              "    .colab-df-container {\n",
              "      display:flex;\n",
              "      flex-wrap:wrap;\n",
              "      gap: 12px;\n",
              "    }\n",
              "\n",
              "    .colab-df-convert {\n",
              "      background-color: #E8F0FE;\n",
              "      border: none;\n",
              "      border-radius: 50%;\n",
              "      cursor: pointer;\n",
              "      display: none;\n",
              "      fill: #1967D2;\n",
              "      height: 32px;\n",
              "      padding: 0 0 0 0;\n",
              "      width: 32px;\n",
              "    }\n",
              "\n",
              "    .colab-df-convert:hover {\n",
              "      background-color: #E2EBFA;\n",
              "      box-shadow: 0px 1px 2px rgba(60, 64, 67, 0.3), 0px 1px 3px 1px rgba(60, 64, 67, 0.15);\n",
              "      fill: #174EA6;\n",
              "    }\n",
              "\n",
              "    [theme=dark] .colab-df-convert {\n",
              "      background-color: #3B4455;\n",
              "      fill: #D2E3FC;\n",
              "    }\n",
              "\n",
              "    [theme=dark] .colab-df-convert:hover {\n",
              "      background-color: #434B5C;\n",
              "      box-shadow: 0px 1px 3px 1px rgba(0, 0, 0, 0.15);\n",
              "      filter: drop-shadow(0px 1px 2px rgba(0, 0, 0, 0.3));\n",
              "      fill: #FFFFFF;\n",
              "    }\n",
              "  </style>\n",
              "\n",
              "      <script>\n",
              "        const buttonEl =\n",
              "          document.querySelector('#df-5669579b-a54d-4c6d-9b82-7a835270d7ad button.colab-df-convert');\n",
              "        buttonEl.style.display =\n",
              "          google.colab.kernel.accessAllowed ? 'block' : 'none';\n",
              "\n",
              "        async function convertToInteractive(key) {\n",
              "          const element = document.querySelector('#df-5669579b-a54d-4c6d-9b82-7a835270d7ad');\n",
              "          const dataTable =\n",
              "            await google.colab.kernel.invokeFunction('convertToInteractive',\n",
              "                                                     [key], {});\n",
              "          if (!dataTable) return;\n",
              "\n",
              "          const docLinkHtml = 'Like what you see? Visit the ' +\n",
              "            '<a target=\"_blank\" href=https://colab.research.google.com/notebooks/data_table.ipynb>data table notebook</a>'\n",
              "            + ' to learn more about interactive tables.';\n",
              "          element.innerHTML = '';\n",
              "          dataTable['output_type'] = 'display_data';\n",
              "          await google.colab.output.renderOutput(dataTable, element);\n",
              "          const docLink = document.createElement('div');\n",
              "          docLink.innerHTML = docLinkHtml;\n",
              "          element.appendChild(docLink);\n",
              "        }\n",
              "      </script>\n",
              "    </div>\n",
              "  </div>\n",
              "  "
            ],
            "text/plain": [
              "      age  anaemia  creatinine_phosphokinase  diabetes  ejection_fraction  \\\n",
              "294  63.0        1                       122         1                 60   \n",
              "295  45.0        0                       308         1                 60   \n",
              "296  70.0        0                        97         0                 60   \n",
              "297  53.0        1                       446         0                 60   \n",
              "298  50.0        0                       582         0                 62   \n",
              "\n",
              "     high_blood_pressure  platelets  serum_creatinine  serum_sodium  sex  \\\n",
              "294                    0  267000.00               1.2           145    1   \n",
              "295                    1  377000.00               1.0           136    1   \n",
              "296                    1  220000.00               0.9           138    1   \n",
              "297                    1  263358.03               1.0           139    1   \n",
              "298                    1  147000.00               0.8           140    1   \n",
              "\n",
              "     smoking  time  DEATH_EVENT  \n",
              "294        0   147            0  \n",
              "295        0   186            0  \n",
              "296        0   186            0  \n",
              "297        0   215            0  \n",
              "298        1   192            0  "
            ]
          },
          "execution_count": 6,
          "metadata": {},
          "output_type": "execute_result"
        }
      ],
      "source": [
        "data.tail()"
      ]
    },
    {
      "cell_type": "code",
      "execution_count": 7,
      "metadata": {
        "colab": {
          "base_uri": "https://localhost:8080/"
        },
        "id": "trvIfr7Xu-L0",
        "outputId": "8b7ddfb9-9882-4e2d-ec34-1fdb2365ff57"
      },
      "outputs": [
        {
          "name": "stdout",
          "output_type": "stream",
          "text": [
            "<class 'pandas.core.frame.DataFrame'>\n",
            "RangeIndex: 299 entries, 0 to 298\n",
            "Data columns (total 13 columns):\n",
            " #   Column                    Non-Null Count  Dtype  \n",
            "---  ------                    --------------  -----  \n",
            " 0   age                       299 non-null    float64\n",
            " 1   anaemia                   299 non-null    int64  \n",
            " 2   creatinine_phosphokinase  299 non-null    int64  \n",
            " 3   diabetes                  299 non-null    int64  \n",
            " 4   ejection_fraction         299 non-null    int64  \n",
            " 5   high_blood_pressure       299 non-null    int64  \n",
            " 6   platelets                 299 non-null    float64\n",
            " 7   serum_creatinine          299 non-null    float64\n",
            " 8   serum_sodium              299 non-null    int64  \n",
            " 9   sex                       299 non-null    int64  \n",
            " 10  smoking                   299 non-null    int64  \n",
            " 11  time                      299 non-null    int64  \n",
            " 12  DEATH_EVENT               299 non-null    int64  \n",
            "dtypes: float64(3), int64(10)\n",
            "memory usage: 30.5 KB\n"
          ]
        }
      ],
      "source": [
        "data.info()"
      ]
    },
    {
      "cell_type": "markdown",
      "metadata": {
        "id": "4o0nS1qR8BHk"
      },
      "source": [
        "Kita bisa lihat ternyata data kita terdiri dari 13 kolom dan semuanya bertipe numeric."
      ]
    },
    {
      "cell_type": "markdown",
      "metadata": {
        "id": "VtYsQZK9sIOY"
      },
      "source": [
        "# Exploratory Data Analysis (EDA)"
      ]
    },
    {
      "cell_type": "markdown",
      "metadata": {
        "id": "LJ4pDfZY892T"
      },
      "source": [
        "## Numerical Data Summary"
      ]
    },
    {
      "cell_type": "code",
      "execution_count": 8,
      "metadata": {
        "colab": {
          "base_uri": "https://localhost:8080/",
          "height": 457
        },
        "id": "Ykhs3lnqJfhF",
        "outputId": "9b9b3769-4951-46de-f7f1-ebad26eece1b"
      },
      "outputs": [
        {
          "data": {
            "text/html": [
              "\n",
              "  <div id=\"df-43e48e79-7013-4ca1-bba5-78ad18e73d22\">\n",
              "    <div class=\"colab-df-container\">\n",
              "      <div>\n",
              "<style scoped>\n",
              "    .dataframe tbody tr th:only-of-type {\n",
              "        vertical-align: middle;\n",
              "    }\n",
              "\n",
              "    .dataframe tbody tr th {\n",
              "        vertical-align: top;\n",
              "    }\n",
              "\n",
              "    .dataframe thead th {\n",
              "        text-align: right;\n",
              "    }\n",
              "</style>\n",
              "<table border=\"1\" class=\"dataframe\">\n",
              "  <thead>\n",
              "    <tr style=\"text-align: right;\">\n",
              "      <th></th>\n",
              "      <th>count</th>\n",
              "      <th>mean</th>\n",
              "      <th>std</th>\n",
              "      <th>min</th>\n",
              "      <th>25%</th>\n",
              "      <th>50%</th>\n",
              "      <th>75%</th>\n",
              "      <th>max</th>\n",
              "    </tr>\n",
              "  </thead>\n",
              "  <tbody>\n",
              "    <tr>\n",
              "      <th>age</th>\n",
              "      <td>299.0</td>\n",
              "      <td>60.833893</td>\n",
              "      <td>11.894809</td>\n",
              "      <td>40.0</td>\n",
              "      <td>51.0</td>\n",
              "      <td>60.0</td>\n",
              "      <td>70.0</td>\n",
              "      <td>95.0</td>\n",
              "    </tr>\n",
              "    <tr>\n",
              "      <th>anaemia</th>\n",
              "      <td>299.0</td>\n",
              "      <td>0.431438</td>\n",
              "      <td>0.496107</td>\n",
              "      <td>0.0</td>\n",
              "      <td>0.0</td>\n",
              "      <td>0.0</td>\n",
              "      <td>1.0</td>\n",
              "      <td>1.0</td>\n",
              "    </tr>\n",
              "    <tr>\n",
              "      <th>creatinine_phosphokinase</th>\n",
              "      <td>299.0</td>\n",
              "      <td>581.839465</td>\n",
              "      <td>970.287881</td>\n",
              "      <td>23.0</td>\n",
              "      <td>116.5</td>\n",
              "      <td>250.0</td>\n",
              "      <td>582.0</td>\n",
              "      <td>7861.0</td>\n",
              "    </tr>\n",
              "    <tr>\n",
              "      <th>diabetes</th>\n",
              "      <td>299.0</td>\n",
              "      <td>0.418060</td>\n",
              "      <td>0.494067</td>\n",
              "      <td>0.0</td>\n",
              "      <td>0.0</td>\n",
              "      <td>0.0</td>\n",
              "      <td>1.0</td>\n",
              "      <td>1.0</td>\n",
              "    </tr>\n",
              "    <tr>\n",
              "      <th>ejection_fraction</th>\n",
              "      <td>299.0</td>\n",
              "      <td>38.083612</td>\n",
              "      <td>11.834841</td>\n",
              "      <td>14.0</td>\n",
              "      <td>30.0</td>\n",
              "      <td>38.0</td>\n",
              "      <td>45.0</td>\n",
              "      <td>80.0</td>\n",
              "    </tr>\n",
              "    <tr>\n",
              "      <th>high_blood_pressure</th>\n",
              "      <td>299.0</td>\n",
              "      <td>0.351171</td>\n",
              "      <td>0.478136</td>\n",
              "      <td>0.0</td>\n",
              "      <td>0.0</td>\n",
              "      <td>0.0</td>\n",
              "      <td>1.0</td>\n",
              "      <td>1.0</td>\n",
              "    </tr>\n",
              "    <tr>\n",
              "      <th>platelets</th>\n",
              "      <td>299.0</td>\n",
              "      <td>263358.029264</td>\n",
              "      <td>97804.236869</td>\n",
              "      <td>25100.0</td>\n",
              "      <td>212500.0</td>\n",
              "      <td>262000.0</td>\n",
              "      <td>303500.0</td>\n",
              "      <td>850000.0</td>\n",
              "    </tr>\n",
              "    <tr>\n",
              "      <th>serum_creatinine</th>\n",
              "      <td>299.0</td>\n",
              "      <td>1.393880</td>\n",
              "      <td>1.034510</td>\n",
              "      <td>0.5</td>\n",
              "      <td>0.9</td>\n",
              "      <td>1.1</td>\n",
              "      <td>1.4</td>\n",
              "      <td>9.4</td>\n",
              "    </tr>\n",
              "    <tr>\n",
              "      <th>serum_sodium</th>\n",
              "      <td>299.0</td>\n",
              "      <td>136.625418</td>\n",
              "      <td>4.412477</td>\n",
              "      <td>113.0</td>\n",
              "      <td>134.0</td>\n",
              "      <td>137.0</td>\n",
              "      <td>140.0</td>\n",
              "      <td>148.0</td>\n",
              "    </tr>\n",
              "    <tr>\n",
              "      <th>sex</th>\n",
              "      <td>299.0</td>\n",
              "      <td>0.648829</td>\n",
              "      <td>0.478136</td>\n",
              "      <td>0.0</td>\n",
              "      <td>0.0</td>\n",
              "      <td>1.0</td>\n",
              "      <td>1.0</td>\n",
              "      <td>1.0</td>\n",
              "    </tr>\n",
              "    <tr>\n",
              "      <th>smoking</th>\n",
              "      <td>299.0</td>\n",
              "      <td>0.321070</td>\n",
              "      <td>0.467670</td>\n",
              "      <td>0.0</td>\n",
              "      <td>0.0</td>\n",
              "      <td>0.0</td>\n",
              "      <td>1.0</td>\n",
              "      <td>1.0</td>\n",
              "    </tr>\n",
              "    <tr>\n",
              "      <th>time</th>\n",
              "      <td>299.0</td>\n",
              "      <td>130.260870</td>\n",
              "      <td>77.614208</td>\n",
              "      <td>4.0</td>\n",
              "      <td>73.0</td>\n",
              "      <td>115.0</td>\n",
              "      <td>203.0</td>\n",
              "      <td>285.0</td>\n",
              "    </tr>\n",
              "    <tr>\n",
              "      <th>DEATH_EVENT</th>\n",
              "      <td>299.0</td>\n",
              "      <td>0.321070</td>\n",
              "      <td>0.467670</td>\n",
              "      <td>0.0</td>\n",
              "      <td>0.0</td>\n",
              "      <td>0.0</td>\n",
              "      <td>1.0</td>\n",
              "      <td>1.0</td>\n",
              "    </tr>\n",
              "  </tbody>\n",
              "</table>\n",
              "</div>\n",
              "      <button class=\"colab-df-convert\" onclick=\"convertToInteractive('df-43e48e79-7013-4ca1-bba5-78ad18e73d22')\"\n",
              "              title=\"Convert this dataframe to an interactive table.\"\n",
              "              style=\"display:none;\">\n",
              "        \n",
              "  <svg xmlns=\"http://www.w3.org/2000/svg\" height=\"24px\"viewBox=\"0 0 24 24\"\n",
              "       width=\"24px\">\n",
              "    <path d=\"M0 0h24v24H0V0z\" fill=\"none\"/>\n",
              "    <path d=\"M18.56 5.44l.94 2.06.94-2.06 2.06-.94-2.06-.94-.94-2.06-.94 2.06-2.06.94zm-11 1L8.5 8.5l.94-2.06 2.06-.94-2.06-.94L8.5 2.5l-.94 2.06-2.06.94zm10 10l.94 2.06.94-2.06 2.06-.94-2.06-.94-.94-2.06-.94 2.06-2.06.94z\"/><path d=\"M17.41 7.96l-1.37-1.37c-.4-.4-.92-.59-1.43-.59-.52 0-1.04.2-1.43.59L10.3 9.45l-7.72 7.72c-.78.78-.78 2.05 0 2.83L4 21.41c.39.39.9.59 1.41.59.51 0 1.02-.2 1.41-.59l7.78-7.78 2.81-2.81c.8-.78.8-2.07 0-2.86zM5.41 20L4 18.59l7.72-7.72 1.47 1.35L5.41 20z\"/>\n",
              "  </svg>\n",
              "      </button>\n",
              "      \n",
              "  <style>\n",
              "    .colab-df-container {\n",
              "      display:flex;\n",
              "      flex-wrap:wrap;\n",
              "      gap: 12px;\n",
              "    }\n",
              "\n",
              "    .colab-df-convert {\n",
              "      background-color: #E8F0FE;\n",
              "      border: none;\n",
              "      border-radius: 50%;\n",
              "      cursor: pointer;\n",
              "      display: none;\n",
              "      fill: #1967D2;\n",
              "      height: 32px;\n",
              "      padding: 0 0 0 0;\n",
              "      width: 32px;\n",
              "    }\n",
              "\n",
              "    .colab-df-convert:hover {\n",
              "      background-color: #E2EBFA;\n",
              "      box-shadow: 0px 1px 2px rgba(60, 64, 67, 0.3), 0px 1px 3px 1px rgba(60, 64, 67, 0.15);\n",
              "      fill: #174EA6;\n",
              "    }\n",
              "\n",
              "    [theme=dark] .colab-df-convert {\n",
              "      background-color: #3B4455;\n",
              "      fill: #D2E3FC;\n",
              "    }\n",
              "\n",
              "    [theme=dark] .colab-df-convert:hover {\n",
              "      background-color: #434B5C;\n",
              "      box-shadow: 0px 1px 3px 1px rgba(0, 0, 0, 0.15);\n",
              "      filter: drop-shadow(0px 1px 2px rgba(0, 0, 0, 0.3));\n",
              "      fill: #FFFFFF;\n",
              "    }\n",
              "  </style>\n",
              "\n",
              "      <script>\n",
              "        const buttonEl =\n",
              "          document.querySelector('#df-43e48e79-7013-4ca1-bba5-78ad18e73d22 button.colab-df-convert');\n",
              "        buttonEl.style.display =\n",
              "          google.colab.kernel.accessAllowed ? 'block' : 'none';\n",
              "\n",
              "        async function convertToInteractive(key) {\n",
              "          const element = document.querySelector('#df-43e48e79-7013-4ca1-bba5-78ad18e73d22');\n",
              "          const dataTable =\n",
              "            await google.colab.kernel.invokeFunction('convertToInteractive',\n",
              "                                                     [key], {});\n",
              "          if (!dataTable) return;\n",
              "\n",
              "          const docLinkHtml = 'Like what you see? Visit the ' +\n",
              "            '<a target=\"_blank\" href=https://colab.research.google.com/notebooks/data_table.ipynb>data table notebook</a>'\n",
              "            + ' to learn more about interactive tables.';\n",
              "          element.innerHTML = '';\n",
              "          dataTable['output_type'] = 'display_data';\n",
              "          await google.colab.output.renderOutput(dataTable, element);\n",
              "          const docLink = document.createElement('div');\n",
              "          docLink.innerHTML = docLinkHtml;\n",
              "          element.appendChild(docLink);\n",
              "        }\n",
              "      </script>\n",
              "    </div>\n",
              "  </div>\n",
              "  "
            ],
            "text/plain": [
              "                          count           mean           std      min  \\\n",
              "age                       299.0      60.833893     11.894809     40.0   \n",
              "anaemia                   299.0       0.431438      0.496107      0.0   \n",
              "creatinine_phosphokinase  299.0     581.839465    970.287881     23.0   \n",
              "diabetes                  299.0       0.418060      0.494067      0.0   \n",
              "ejection_fraction         299.0      38.083612     11.834841     14.0   \n",
              "high_blood_pressure       299.0       0.351171      0.478136      0.0   \n",
              "platelets                 299.0  263358.029264  97804.236869  25100.0   \n",
              "serum_creatinine          299.0       1.393880      1.034510      0.5   \n",
              "serum_sodium              299.0     136.625418      4.412477    113.0   \n",
              "sex                       299.0       0.648829      0.478136      0.0   \n",
              "smoking                   299.0       0.321070      0.467670      0.0   \n",
              "time                      299.0     130.260870     77.614208      4.0   \n",
              "DEATH_EVENT               299.0       0.321070      0.467670      0.0   \n",
              "\n",
              "                               25%       50%       75%       max  \n",
              "age                           51.0      60.0      70.0      95.0  \n",
              "anaemia                        0.0       0.0       1.0       1.0  \n",
              "creatinine_phosphokinase     116.5     250.0     582.0    7861.0  \n",
              "diabetes                       0.0       0.0       1.0       1.0  \n",
              "ejection_fraction             30.0      38.0      45.0      80.0  \n",
              "high_blood_pressure            0.0       0.0       1.0       1.0  \n",
              "platelets                 212500.0  262000.0  303500.0  850000.0  \n",
              "serum_creatinine               0.9       1.1       1.4       9.4  \n",
              "serum_sodium                 134.0     137.0     140.0     148.0  \n",
              "sex                            0.0       1.0       1.0       1.0  \n",
              "smoking                        0.0       0.0       1.0       1.0  \n",
              "time                          73.0     115.0     203.0     285.0  \n",
              "DEATH_EVENT                    0.0       0.0       1.0       1.0  "
            ]
          },
          "execution_count": 8,
          "metadata": {},
          "output_type": "execute_result"
        }
      ],
      "source": [
        "data.describe().T"
      ]
    },
    {
      "cell_type": "markdown",
      "metadata": {
        "id": "zLI7qe9D9Cyt"
      },
      "source": [
        "## Age"
      ]
    },
    {
      "cell_type": "code",
      "execution_count": 9,
      "metadata": {
        "id": "bnqUKTUIdaq2"
      },
      "outputs": [],
      "source": [
        "death = data[data['DEATH_EVENT']==1]\n",
        "no_death = data[data['DEATH_EVENT']==0]"
      ]
    },
    {
      "cell_type": "code",
      "execution_count": 10,
      "metadata": {
        "colab": {
          "base_uri": "https://localhost:8080/",
          "height": 421
        },
        "id": "BcOMn7mHKLbu",
        "outputId": "2b5bf4e4-e42d-4976-b4e8-7bf6826a4996"
      },
      "outputs": [
        {
          "data": {
            "image/png": "[encoded data removed]",
            "text/plain": [
              "<Figure size 1080x360 with 1 Axes>"
            ]
          },
          "metadata": {
            "needs_background": "light"
          },
          "output_type": "display_data"
        },
        {
          "name": "stdout",
          "output_type": "stream",
          "text": [
            "Age Skewness value :  0.4230619067286355\n",
            "Min Age : 40.0\n",
            "Max Age : 95.0\n",
            "Mean Age : 60.83389297658862\n"
          ]
        }
      ],
      "source": [
        "plt.figure(figsize = (15, 5))\n",
        "sns.histplot(data['age'], bins=30, kde=True)\n",
        "plt.title('Age')\n",
        "plt.show()\n",
        "print('Age Skewness value : ', data['age'].skew())\n",
        "print(f'Min Age : {data.age.min()}')\n",
        "print(f'Max Age : {data.age.max()}')\n",
        "print(f'Mean Age : {data.age.mean()}')"
      ]
    },
    {
      "cell_type": "markdown",
      "metadata": {
        "id": "VdkrVZTMcDwe"
      },
      "source": [
        "Kita bisa lihat bahwa rata-rata umur pasien gagal jantung berada di umur 60 tahun dengan umur terendah 40 tahun dan yang tertua adalah 95 tahun, hal ini menunjukan bahwa sakit gagal jantung ini hanya menyerang orang tua di atas 40 tahun."
      ]
    },
    {
      "cell_type": "markdown",
      "metadata": {
        "id": "6sSV5hAL9VbV"
      },
      "source": [
        "## Bloods"
      ]
    },
    {
      "cell_type": "code",
      "execution_count": 11,
      "metadata": {
        "colab": {
          "base_uri": "https://localhost:8080/",
          "height": 319
        },
        "id": "IdOdO2e1LYnC",
        "outputId": "a1d659bc-4050-43eb-941d-b765be4e5202"
      },
      "outputs": [
        {
          "data": {
            "image/png": "[encoded data removed]",
            "text/plain": [
              "<Figure size 360x360 with 1 Axes>"
            ]
          },
          "metadata": {},
          "output_type": "display_data"
        }
      ],
      "source": [
        "plt.figure(figsize=(5,5))\n",
        "data['anaemia'].value_counts().plot(kind='pie', explode=[0.05, 0], autopct='%1.1f%%', shadow=True)\n",
        "plt.title('Anemia')\n",
        "plt.show()"
      ]
    },
    {
      "cell_type": "markdown",
      "metadata": {
        "id": "VbSM8wcpcsJ-"
      },
      "source": [
        "Ternyata sebanyak 43.1% pasien gagal jantung pada data kita memiliki penyakit anemia atau kekurangan sel darah merah."
      ]
    },
    {
      "cell_type": "code",
      "execution_count": 12,
      "metadata": {
        "colab": {
          "base_uri": "https://localhost:8080/",
          "height": 422
        },
        "id": "XEHdhmtgMldS",
        "outputId": "4f9dcaa0-8407-4641-dfa6-3142dc1e6409"
      },
      "outputs": [
        {
          "data": {
            "image/png": "[encoded data removed]",
            "text/plain": [
              "<Figure size 1080x360 with 1 Axes>"
            ]
          },
          "metadata": {
            "needs_background": "light"
          },
          "output_type": "display_data"
        },
        {
          "name": "stdout",
          "output_type": "stream",
          "text": [
            "CPK level Skewness value :  4.463110084653752\n",
            "Min CPK level : 23\n",
            "Max CPK level : 7861\n",
            "Mean CPK level : 581.8394648829432\n"
          ]
        }
      ],
      "source": [
        "plt.figure(figsize = (15, 5))\n",
        "sns.histplot(data['creatinine_phosphokinase'], bins=30, kde=True)\n",
        "plt.title('CPK Level')\n",
        "plt.show()\n",
        "print('CPK level Skewness value : ', data['creatinine_phosphokinase'].skew())\n",
        "print(f'Min CPK level : {data.creatinine_phosphokinase.min()}')\n",
        "print(f'Max CPK level : {data.creatinine_phosphokinase.max()}')\n",
        "print(f'Mean CPK level : {data.creatinine_phosphokinase.mean()}')"
      ]
    },
    {
      "cell_type": "markdown",
      "metadata": {
        "id": "rCZKxEAefJx3"
      },
      "source": [
        "Pasien gagal jantung pada data kita memiliki range level CPK enzyme dalam darah yang luas, dari 23 mcg/L hingga 7861 mcg/L."
      ]
    },
    {
      "cell_type": "code",
      "execution_count": 13,
      "metadata": {
        "colab": {
          "base_uri": "https://localhost:8080/",
          "height": 422
        },
        "id": "c6qFxu1ePk3l",
        "outputId": "3247af27-0b9c-4b45-9885-2dd53d18dcdd"
      },
      "outputs": [
        {
          "data": {
            "image/png": "[encoded data removed]",
            "text/plain": [
              "<Figure size 1080x360 with 1 Axes>"
            ]
          },
          "metadata": {
            "needs_background": "light"
          },
          "output_type": "display_data"
        },
        {
          "name": "stdout",
          "output_type": "stream",
          "text": [
            "Blood Percentage Skewness value :  0.5553827516973213\n",
            "Min Percentage : 14\n",
            "Max Percentage : 80\n",
            "Mean Percentage : 38.08361204013378\n"
          ]
        }
      ],
      "source": [
        "plt.figure(figsize = (15, 5))\n",
        "sns.histplot(data['ejection_fraction'], bins=30, kde=True)\n",
        "plt.title('Blood Percentage Leaving the Heart Every Contraction')\n",
        "plt.show()\n",
        "print('Blood Percentage Skewness value : ', data['ejection_fraction'].skew())\n",
        "print(f'Min Percentage : {data.ejection_fraction.min()}')\n",
        "print(f'Max Percentage : {data.ejection_fraction.max()}')\n",
        "print(f'Mean Percentage : {data.ejection_fraction.mean()}')"
      ]
    },
    {
      "cell_type": "markdown",
      "metadata": {
        "id": "56hU0b-5gEiD"
      },
      "source": [
        "Dari informasi di internet, ejection fraction normalnya berada di angka 55-70%, namun data kita menunjukan angka dengan range dari 14% hingga 80% artinya pasien gagal jantung kita memang ada yang ejection fractionya sangat kecil dan ada juga yang ejection fractionya normal."
      ]
    },
    {
      "cell_type": "code",
      "execution_count": 14,
      "metadata": {
        "colab": {
          "base_uri": "https://localhost:8080/",
          "height": 351
        },
        "id": "V9Lc9anchJrx",
        "outputId": "28e1b043-c0c2-4cb9-e4d7-9ac5c22df435"
      },
      "outputs": [
        {
          "data": {
            "image/png": "[encoded data removed]",
            "text/plain": [
              "<Figure size 720x360 with 2 Axes>"
            ]
          },
          "metadata": {
            "needs_background": "light"
          },
          "output_type": "display_data"
        }
      ],
      "source": [
        "plt.figure(figsize=(10,5))\n",
        "plt.subplot(1, 2, 1)\n",
        "data['high_blood_pressure'].value_counts().plot(kind='pie', explode=[0.05, 0], autopct='%1.1f%%', shadow=True)\n",
        "plt.title('High Blood Pressure')\n",
        "\n",
        "plt.subplot(1, 2, 2)\n",
        "sns.countplot(data=data, x=\"high_blood_pressure\", hue=\"DEATH_EVENT\")\n",
        "plt.title('High Blood Pressure')\n",
        "\n",
        "plt.show()"
      ]
    },
    {
      "cell_type": "markdown",
      "metadata": {
        "id": "KLCFmh1HiV20"
      },
      "source": [
        "Visual di atas menunjukan bahwa 34.9% pasien gagal jantung kita memiliki hipertensi dan 65.1% sisanya tidak. Jika kita lihat perbandingan hipertensi pada pasien yang selamat ternyata kebanyakan tidak memiliki hipertensi."
      ]
    },
    {
      "cell_type": "code",
      "execution_count": 15,
      "metadata": {
        "colab": {
          "base_uri": "https://localhost:8080/",
          "height": 421
        },
        "id": "-wirUzQJjJjb",
        "outputId": "8f8c4aa8-dae8-41f3-84d7-2fefa3804984"
      },
      "outputs": [
        {
          "data": {
            "image/png": "[encoded data removed]",
            "text/plain": [
              "<Figure size 1080x360 with 1 Axes>"
            ]
          },
          "metadata": {
            "needs_background": "light"
          },
          "output_type": "display_data"
        },
        {
          "name": "stdout",
          "output_type": "stream",
          "text": [
            "Platelets Skewness value :  1.462320838275779\n",
            "Min Platelets : 25100.0\n",
            "Max Platelets : 850000.0\n",
            "Mean Platelets : 263358.02926421404\n"
          ]
        }
      ],
      "source": [
        "plt.figure(figsize = (15, 5))\n",
        "sns.histplot(data['platelets'], bins=30, kde=True)\n",
        "plt.title('Trombosit Count')\n",
        "plt.show()\n",
        "print('Platelets Skewness value : ', data['platelets'].skew())\n",
        "print(f'Min Platelets : {data.platelets.min()}')\n",
        "print(f'Max Platelets : {data.platelets.max()}')\n",
        "print(f'Mean Platelets : {data.platelets.mean()}')"
      ]
    },
    {
      "cell_type": "markdown",
      "metadata": {
        "id": "JnVsNWT3jyoy"
      },
      "source": [
        "Visual di atas menunjukan jumlah trombosit dalam darah pasien kita. Jumlah trombosit normal berada di angka 150 ribu sampai 450 ribu, namun bisa dilihat pasien dalam data kita ada yang trombositnya sangat rendah yaitu 25 ribu dan ada yang tinggi sekali mencapai 850 ribu. Rata-rata trombosit pada pasien kita berada di angka 263 ribu dimana masih dalam batas normal."
      ]
    },
    {
      "cell_type": "markdown",
      "metadata": {
        "id": "1taaqoGx9dra"
      },
      "source": [
        "## Diabetes"
      ]
    },
    {
      "cell_type": "code",
      "execution_count": 16,
      "metadata": {
        "colab": {
          "base_uri": "https://localhost:8080/",
          "height": 350
        },
        "id": "zDmyVL_qMvGu",
        "outputId": "76509837-8d6e-4804-896f-0c14ac016b5c"
      },
      "outputs": [
        {
          "data": {
            "image/png": "[encoded data removed]",
            "text/plain": [
              "<Figure size 720x360 with 2 Axes>"
            ]
          },
          "metadata": {
            "needs_background": "light"
          },
          "output_type": "display_data"
        }
      ],
      "source": [
        "plt.figure(figsize=(10,5))\n",
        "plt.subplot(1, 2, 1)\n",
        "data['diabetes'].value_counts().plot(kind='pie', explode=[0.05, 0], autopct='%1.1f%%', shadow=True)\n",
        "plt.title('Diabetes')\n",
        "\n",
        "plt.subplot(1, 2, 2)\n",
        "sns.countplot(data=data, x=\"diabetes\", hue=\"DEATH_EVENT\")\n",
        "plt.title('Diabetes')\n",
        "plt.show()"
      ]
    },
    {
      "cell_type": "markdown",
      "metadata": {
        "id": "fwscT-JxlECx"
      },
      "source": [
        "Kita bisa lihat bahwa 42.2% pasien kita memiliki diabetes dan 57.8 sisanya tidak memiliki diabetes. "
      ]
    },
    {
      "cell_type": "markdown",
      "metadata": {
        "id": "K6SBvsM7--Gf"
      },
      "source": [
        "## Gender"
      ]
    },
    {
      "cell_type": "code",
      "execution_count": 17,
      "metadata": {
        "colab": {
          "base_uri": "https://localhost:8080/",
          "height": 350
        },
        "id": "HqitRQtUllT9",
        "outputId": "d684668c-f943-4278-be0b-13e58c33dc82"
      },
      "outputs": [
        {
          "data": {
            "image/png": "[encoded data removed]",
            "text/plain": [
              "<Figure size 720x360 with 2 Axes>"
            ]
          },
          "metadata": {
            "needs_background": "light"
          },
          "output_type": "display_data"
        }
      ],
      "source": [
        "plt.figure(figsize=(10,5))\n",
        "plt.subplot(1, 2, 1)\n",
        "data['sex'].value_counts().plot(kind='pie', explode=[0.05, 0], autopct='%1.1f%%', shadow=True)\n",
        "plt.title('Gender')\n",
        "\n",
        "plt.subplot(1, 2, 2)\n",
        "sns.countplot(data=data, x=\"sex\", hue=\"DEATH_EVENT\")\n",
        "plt.title('Gender')\n",
        "plt.show()"
      ]
    },
    {
      "cell_type": "markdown",
      "metadata": {
        "id": "qieHsi5wlrGz"
      },
      "source": [
        "Kita bisa lihat ternyata mayoritas pasien gagal jantung ternyata adalah laki-laki dengan jumlah 64.7 persen dimana wanita hanya 35.3%. Kita juga bisa melihat ternyata tingkat kematian lebih tinggi pada laki laki mungkin karena jumlahnya yang lebih banyak juga."
      ]
    },
    {
      "cell_type": "markdown",
      "metadata": {
        "id": "krkoH7fS-_Vq"
      },
      "source": [
        "## Smoking"
      ]
    },
    {
      "cell_type": "code",
      "execution_count": 18,
      "metadata": {
        "colab": {
          "base_uri": "https://localhost:8080/",
          "height": 350
        },
        "id": "R4yiG5PRmG1S",
        "outputId": "f16e9f16-2a74-4bb1-9c6f-228db4bb78ac"
      },
      "outputs": [
        {
          "data": {
            "image/png": "[encoded data removed]",
            "text/plain": [
              "<Figure size 720x360 with 2 Axes>"
            ]
          },
          "metadata": {
            "needs_background": "light"
          },
          "output_type": "display_data"
        }
      ],
      "source": [
        "plt.figure(figsize=(10,5))\n",
        "plt.subplot(1, 2, 1)\n",
        "data['smoking'].value_counts().plot(kind='pie', explode=[0.05, 0], autopct='%1.1f%%', shadow=True)\n",
        "plt.title('Smoking')\n",
        "\n",
        "plt.subplot(1, 2, 2)\n",
        "sns.countplot(data=data, x=\"smoking\", hue=\"DEATH_EVENT\")\n",
        "plt.title('Smoking')\n",
        "plt.show()"
      ]
    },
    {
      "cell_type": "markdown",
      "metadata": {
        "id": "oqM7snPdoGtR"
      },
      "source": [
        "Ternyata hanya sedikit dari pasien kita yang merupakan perokok yaitu hanya 31.1% yang merokok dan 68.9% sisanya bukan perokok. "
      ]
    },
    {
      "cell_type": "markdown",
      "metadata": {
        "id": "jAlzUELy_gRu"
      },
      "source": [
        "## Follow Up Periode"
      ]
    },
    {
      "cell_type": "code",
      "execution_count": 19,
      "metadata": {
        "colab": {
          "base_uri": "https://localhost:8080/",
          "height": 421
        },
        "id": "TgjVyBlAoVQi",
        "outputId": "9a5a6c07-3af1-4d1c-b1e8-ce3b89cffa74"
      },
      "outputs": [
        {
          "data": {
            "image/png": "[encoded data removed]",
            "text/plain": [
              "<Figure size 1080x360 with 1 Axes>"
            ]
          },
          "metadata": {
            "needs_background": "light"
          },
          "output_type": "display_data"
        },
        {
          "name": "stdout",
          "output_type": "stream",
          "text": [
            "Periode Skewness value :  0.12780264559841178\n",
            "Min Time Periode : 4\n",
            "Max Time Periode : 285\n",
            "Mean Time Periode : 130.2608695652174\n"
          ]
        }
      ],
      "source": [
        "plt.figure(figsize = (15, 5))\n",
        "sns.histplot(data['time'], bins=30, kde=True)\n",
        "plt.title('Follow Up Periode')\n",
        "plt.show()\n",
        "print('Periode Skewness value : ', data['time'].skew())\n",
        "print(f'Min Time Periode : {data.time.min()}')\n",
        "print(f'Max Time Periode : {data.time.max()}')\n",
        "print(f'Mean Time Periode : {data.time.mean()}')"
      ]
    },
    {
      "cell_type": "markdown",
      "metadata": {
        "id": "QfNVs6mwo4O2"
      },
      "source": [
        "Kita bisa melihat periode waktu pengamatan pasien, yang paling cepat adalah 4 hari dan yang terlama adalah 285 hari dengan rata-rata periode follow-up selama 129 hari."
      ]
    },
    {
      "cell_type": "markdown",
      "metadata": {
        "id": "SSUoXfi2-Vdu"
      },
      "source": [
        "## Death Event (Target)"
      ]
    },
    {
      "cell_type": "code",
      "execution_count": 20,
      "metadata": {
        "colab": {
          "base_uri": "https://localhost:8080/",
          "height": 319
        },
        "id": "KVMcHFCRQNrB",
        "outputId": "2b442158-ebee-4a66-f0eb-ff980afaceea"
      },
      "outputs": [
        {
          "data": {
            "image/png": "[encoded data removed]",
            "text/plain": [
              "<Figure size 360x360 with 1 Axes>"
            ]
          },
          "metadata": {},
          "output_type": "display_data"
        }
      ],
      "source": [
        "plt.figure(figsize=(5,5))\n",
        "data['DEATH_EVENT'].value_counts().plot(kind='pie', autopct='%1.1f%%', explode=[0.05, 0], shadow=True)\n",
        "plt.title('Death')\n",
        "plt.show()"
      ]
    },
    {
      "cell_type": "code",
      "execution_count": 21,
      "metadata": {
        "colab": {
          "base_uri": "https://localhost:8080/"
        },
        "id": "64jEEN4EQ6tl",
        "outputId": "19679d91-7d11-4f12-eb10-ebf7d8be2b68"
      },
      "outputs": [
        {
          "data": {
            "text/plain": [
              "0    203\n",
              "1     96\n",
              "Name: DEATH_EVENT, dtype: int64"
            ]
          },
          "execution_count": 21,
          "metadata": {},
          "output_type": "execute_result"
        }
      ],
      "source": [
        "data['DEATH_EVENT'].value_counts()"
      ]
    },
    {
      "cell_type": "markdown",
      "metadata": {
        "id": "0WZhb8WapJli"
      },
      "source": [
        "Dari 299 pasien gagal jantung yang akhirnya meninggal ada 96 orang atau 32.1% sedangkan yang selamat ada 203 orang atau 67.9%."
      ]
    },
    {
      "cell_type": "markdown",
      "metadata": {
        "id": "UIjokm6xqx0e"
      },
      "source": [
        "## Correlation Between Column"
      ]
    },
    {
      "cell_type": "code",
      "execution_count": 22,
      "metadata": {
        "colab": {
          "base_uri": "https://localhost:8080/",
          "height": 638
        },
        "id": "HEqSHX0iUPtz",
        "outputId": "b8145e33-4fbb-45f5-ed99-8a7e874c4d44"
      },
      "outputs": [
        {
          "data": {
            "image/png": "[encoded data removed]",
            "text/plain": [
              "<Figure size 1440x720 with 2 Axes>"
            ]
          },
          "metadata": {
            "needs_background": "light"
          },
          "output_type": "display_data"
        }
      ],
      "source": [
        "corr1 = pd.concat([data, pd.get_dummies(data['DEATH_EVENT'])], axis=1).corr()\n",
        "plt.figure(figsize=(20, 10))\n",
        "sns.heatmap(corr1, annot=True, cmap='coolwarm')\n",
        "plt.title('Correlation Matrix')\n",
        "plt.show()"
      ]
    },
    {
      "cell_type": "markdown",
      "metadata": {
        "id": "lcv7bJzDVjP2"
      },
      "source": [
        "# Data Preprocessing"
      ]
    },
    {
      "cell_type": "markdown",
      "metadata": {
        "id": "TC-CnMLtYwoE"
      },
      "source": [
        "## Get data for model inference"
      ]
    },
    {
      "cell_type": "code",
      "execution_count": 23,
      "metadata": {
        "colab": {
          "base_uri": "https://localhost:8080/",
          "height": 427
        },
        "id": "sYKGeJaMVmNL",
        "outputId": "89b36652-cda1-4379-eaf0-133657cf22d3"
      },
      "outputs": [
        {
          "data": {
            "text/html": [
              "\n",
              "  <div id=\"df-57625a10-5821-4051-9bf8-6c7478b920f9\">\n",
              "    <div class=\"colab-df-container\">\n",
              "      <div>\n",
              "<style scoped>\n",
              "    .dataframe tbody tr th:only-of-type {\n",
              "        vertical-align: middle;\n",
              "    }\n",
              "\n",
              "    .dataframe tbody tr th {\n",
              "        vertical-align: top;\n",
              "    }\n",
              "\n",
              "    .dataframe thead th {\n",
              "        text-align: right;\n",
              "    }\n",
              "</style>\n",
              "<table border=\"1\" class=\"dataframe\">\n",
              "  <thead>\n",
              "    <tr style=\"text-align: right;\">\n",
              "      <th></th>\n",
              "      <th>age</th>\n",
              "      <th>anaemia</th>\n",
              "      <th>creatinine_phosphokinase</th>\n",
              "      <th>diabetes</th>\n",
              "      <th>ejection_fraction</th>\n",
              "      <th>high_blood_pressure</th>\n",
              "      <th>platelets</th>\n",
              "      <th>serum_creatinine</th>\n",
              "      <th>serum_sodium</th>\n",
              "      <th>sex</th>\n",
              "      <th>smoking</th>\n",
              "      <th>time</th>\n",
              "      <th>DEATH_EVENT</th>\n",
              "    </tr>\n",
              "  </thead>\n",
              "  <tbody>\n",
              "    <tr>\n",
              "      <th>121</th>\n",
              "      <td>73.0</td>\n",
              "      <td>0</td>\n",
              "      <td>582</td>\n",
              "      <td>0</td>\n",
              "      <td>20</td>\n",
              "      <td>0</td>\n",
              "      <td>263358.03</td>\n",
              "      <td>1.83</td>\n",
              "      <td>134</td>\n",
              "      <td>1</td>\n",
              "      <td>0</td>\n",
              "      <td>198</td>\n",
              "      <td>1</td>\n",
              "    </tr>\n",
              "    <tr>\n",
              "      <th>94</th>\n",
              "      <td>65.0</td>\n",
              "      <td>1</td>\n",
              "      <td>113</td>\n",
              "      <td>1</td>\n",
              "      <td>60</td>\n",
              "      <td>1</td>\n",
              "      <td>203000.00</td>\n",
              "      <td>0.90</td>\n",
              "      <td>140</td>\n",
              "      <td>0</td>\n",
              "      <td>0</td>\n",
              "      <td>94</td>\n",
              "      <td>0</td>\n",
              "    </tr>\n",
              "    <tr>\n",
              "      <th>138</th>\n",
              "      <td>50.0</td>\n",
              "      <td>0</td>\n",
              "      <td>250</td>\n",
              "      <td>0</td>\n",
              "      <td>25</td>\n",
              "      <td>0</td>\n",
              "      <td>262000.00</td>\n",
              "      <td>1.00</td>\n",
              "      <td>136</td>\n",
              "      <td>1</td>\n",
              "      <td>1</td>\n",
              "      <td>120</td>\n",
              "      <td>0</td>\n",
              "    </tr>\n",
              "    <tr>\n",
              "      <th>288</th>\n",
              "      <td>63.0</td>\n",
              "      <td>0</td>\n",
              "      <td>193</td>\n",
              "      <td>0</td>\n",
              "      <td>60</td>\n",
              "      <td>1</td>\n",
              "      <td>295000.00</td>\n",
              "      <td>1.30</td>\n",
              "      <td>145</td>\n",
              "      <td>1</td>\n",
              "      <td>1</td>\n",
              "      <td>107</td>\n",
              "      <td>0</td>\n",
              "    </tr>\n",
              "    <tr>\n",
              "      <th>139</th>\n",
              "      <td>59.0</td>\n",
              "      <td>1</td>\n",
              "      <td>176</td>\n",
              "      <td>1</td>\n",
              "      <td>25</td>\n",
              "      <td>0</td>\n",
              "      <td>221000.00</td>\n",
              "      <td>1.00</td>\n",
              "      <td>136</td>\n",
              "      <td>1</td>\n",
              "      <td>1</td>\n",
              "      <td>150</td>\n",
              "      <td>1</td>\n",
              "    </tr>\n",
              "    <tr>\n",
              "      <th>13</th>\n",
              "      <td>72.0</td>\n",
              "      <td>0</td>\n",
              "      <td>211</td>\n",
              "      <td>0</td>\n",
              "      <td>25</td>\n",
              "      <td>0</td>\n",
              "      <td>274000.00</td>\n",
              "      <td>1.20</td>\n",
              "      <td>134</td>\n",
              "      <td>0</td>\n",
              "      <td>0</td>\n",
              "      <td>207</td>\n",
              "      <td>0</td>\n",
              "    </tr>\n",
              "    <tr>\n",
              "      <th>230</th>\n",
              "      <td>90.0</td>\n",
              "      <td>1</td>\n",
              "      <td>47</td>\n",
              "      <td>0</td>\n",
              "      <td>40</td>\n",
              "      <td>1</td>\n",
              "      <td>204000.00</td>\n",
              "      <td>2.10</td>\n",
              "      <td>132</td>\n",
              "      <td>1</td>\n",
              "      <td>1</td>\n",
              "      <td>8</td>\n",
              "      <td>1</td>\n",
              "    </tr>\n",
              "    <tr>\n",
              "      <th>165</th>\n",
              "      <td>65.0</td>\n",
              "      <td>0</td>\n",
              "      <td>582</td>\n",
              "      <td>1</td>\n",
              "      <td>30</td>\n",
              "      <td>0</td>\n",
              "      <td>249000.00</td>\n",
              "      <td>1.30</td>\n",
              "      <td>136</td>\n",
              "      <td>1</td>\n",
              "      <td>1</td>\n",
              "      <td>212</td>\n",
              "      <td>0</td>\n",
              "    </tr>\n",
              "    <tr>\n",
              "      <th>58</th>\n",
              "      <td>50.0</td>\n",
              "      <td>0</td>\n",
              "      <td>318</td>\n",
              "      <td>0</td>\n",
              "      <td>40</td>\n",
              "      <td>1</td>\n",
              "      <td>216000.00</td>\n",
              "      <td>2.30</td>\n",
              "      <td>131</td>\n",
              "      <td>0</td>\n",
              "      <td>0</td>\n",
              "      <td>60</td>\n",
              "      <td>1</td>\n",
              "    </tr>\n",
              "    <tr>\n",
              "      <th>122</th>\n",
              "      <td>55.0</td>\n",
              "      <td>0</td>\n",
              "      <td>1199</td>\n",
              "      <td>0</td>\n",
              "      <td>20</td>\n",
              "      <td>0</td>\n",
              "      <td>263358.03</td>\n",
              "      <td>1.83</td>\n",
              "      <td>134</td>\n",
              "      <td>1</td>\n",
              "      <td>1</td>\n",
              "      <td>241</td>\n",
              "      <td>1</td>\n",
              "    </tr>\n",
              "  </tbody>\n",
              "</table>\n",
              "</div>\n",
              "      <button class=\"colab-df-convert\" onclick=\"convertToInteractive('df-57625a10-5821-4051-9bf8-6c7478b920f9')\"\n",
              "              title=\"Convert this dataframe to an interactive table.\"\n",
              "              style=\"display:none;\">\n",
              "        \n",
              "  <svg xmlns=\"http://www.w3.org/2000/svg\" height=\"24px\"viewBox=\"0 0 24 24\"\n",
              "       width=\"24px\">\n",
              "    <path d=\"M0 0h24v24H0V0z\" fill=\"none\"/>\n",
              "    <path d=\"M18.56 5.44l.94 2.06.94-2.06 2.06-.94-2.06-.94-.94-2.06-.94 2.06-2.06.94zm-11 1L8.5 8.5l.94-2.06 2.06-.94-2.06-.94L8.5 2.5l-.94 2.06-2.06.94zm10 10l.94 2.06.94-2.06 2.06-.94-2.06-.94-.94-2.06-.94 2.06-2.06.94z\"/><path d=\"M17.41 7.96l-1.37-1.37c-.4-.4-.92-.59-1.43-.59-.52 0-1.04.2-1.43.59L10.3 9.45l-7.72 7.72c-.78.78-.78 2.05 0 2.83L4 21.41c.39.39.9.59 1.41.59.51 0 1.02-.2 1.41-.59l7.78-7.78 2.81-2.81c.8-.78.8-2.07 0-2.86zM5.41 20L4 18.59l7.72-7.72 1.47 1.35L5.41 20z\"/>\n",
              "  </svg>\n",
              "      </button>\n",
              "      \n",
              "  <style>\n",
              "    .colab-df-container {\n",
              "      display:flex;\n",
              "      flex-wrap:wrap;\n",
              "      gap: 12px;\n",
              "    }\n",
              "\n",
              "    .colab-df-convert {\n",
              "      background-color: #E8F0FE;\n",
              "      border: none;\n",
              "      border-radius: 50%;\n",
              "      cursor: pointer;\n",
              "      display: none;\n",
              "      fill: #1967D2;\n",
              "      height: 32px;\n",
              "      padding: 0 0 0 0;\n",
              "      width: 32px;\n",
              "    }\n",
              "\n",
              "    .colab-df-convert:hover {\n",
              "      background-color: #E2EBFA;\n",
              "      box-shadow: 0px 1px 2px rgba(60, 64, 67, 0.3), 0px 1px 3px 1px rgba(60, 64, 67, 0.15);\n",
              "      fill: #174EA6;\n",
              "    }\n",
              "\n",
              "    [theme=dark] .colab-df-convert {\n",
              "      background-color: #3B4455;\n",
              "      fill: #D2E3FC;\n",
              "    }\n",
              "\n",
              "    [theme=dark] .colab-df-convert:hover {\n",
              "      background-color: #434B5C;\n",
              "      box-shadow: 0px 1px 3px 1px rgba(0, 0, 0, 0.15);\n",
              "      filter: drop-shadow(0px 1px 2px rgba(0, 0, 0, 0.3));\n",
              "      fill: #FFFFFF;\n",
              "    }\n",
              "  </style>\n",
              "\n",
              "      <script>\n",
              "        const buttonEl =\n",
              "          document.querySelector('#df-57625a10-5821-4051-9bf8-6c7478b920f9 button.colab-df-convert');\n",
              "        buttonEl.style.display =\n",
              "          google.colab.kernel.accessAllowed ? 'block' : 'none';\n",
              "\n",
              "        async function convertToInteractive(key) {\n",
              "          const element = document.querySelector('#df-57625a10-5821-4051-9bf8-6c7478b920f9');\n",
              "          const dataTable =\n",
              "            await google.colab.kernel.invokeFunction('convertToInteractive',\n",
              "                                                     [key], {});\n",
              "          if (!dataTable) return;\n",
              "\n",
              "          const docLinkHtml = 'Like what you see? Visit the ' +\n",
              "            '<a target=\"_blank\" href=https://colab.research.google.com/notebooks/data_table.ipynb>data table notebook</a>'\n",
              "            + ' to learn more about interactive tables.';\n",
              "          element.innerHTML = '';\n",
              "          dataTable['output_type'] = 'display_data';\n",
              "          await google.colab.output.renderOutput(dataTable, element);\n",
              "          const docLink = document.createElement('div');\n",
              "          docLink.innerHTML = docLinkHtml;\n",
              "          element.appendChild(docLink);\n",
              "        }\n",
              "      </script>\n",
              "    </div>\n",
              "  </div>\n",
              "  "
            ],
            "text/plain": [
              "      age  anaemia  creatinine_phosphokinase  diabetes  ejection_fraction  \\\n",
              "121  73.0        0                       582         0                 20   \n",
              "94   65.0        1                       113         1                 60   \n",
              "138  50.0        0                       250         0                 25   \n",
              "288  63.0        0                       193         0                 60   \n",
              "139  59.0        1                       176         1                 25   \n",
              "13   72.0        0                       211         0                 25   \n",
              "230  90.0        1                        47         0                 40   \n",
              "165  65.0        0                       582         1                 30   \n",
              "58   50.0        0                       318         0                 40   \n",
              "122  55.0        0                      1199         0                 20   \n",
              "\n",
              "     high_blood_pressure  platelets  serum_creatinine  serum_sodium  sex  \\\n",
              "121                    0  263358.03              1.83           134    1   \n",
              "94                     1  203000.00              0.90           140    0   \n",
              "138                    0  262000.00              1.00           136    1   \n",
              "288                    1  295000.00              1.30           145    1   \n",
              "139                    0  221000.00              1.00           136    1   \n",
              "13                     0  274000.00              1.20           134    0   \n",
              "230                    1  204000.00              2.10           132    1   \n",
              "165                    0  249000.00              1.30           136    1   \n",
              "58                     1  216000.00              2.30           131    0   \n",
              "122                    0  263358.03              1.83           134    1   \n",
              "\n",
              "     smoking  time  DEATH_EVENT  \n",
              "121        0   198            1  \n",
              "94         0    94            0  \n",
              "138        1   120            0  \n",
              "288        1   107            0  \n",
              "139        1   150            1  \n",
              "13         0   207            0  \n",
              "230        1     8            1  \n",
              "165        1   212            0  \n",
              "58         0    60            1  \n",
              "122        1   241            1  "
            ]
          },
          "execution_count": 23,
          "metadata": {},
          "output_type": "execute_result"
        }
      ],
      "source": [
        "# Membuat data inference\n",
        "\n",
        "data_inf = data.sample(10, random_state=17)\n",
        "data_inf"
      ]
    },
    {
      "cell_type": "code",
      "execution_count": 24,
      "metadata": {
        "colab": {
          "base_uri": "https://localhost:8080/",
          "height": 488
        },
        "id": "5txF4_JXX9vi",
        "outputId": "57b2bb15-fa03-4796-ab69-773ce201f195"
      },
      "outputs": [
        {
          "data": {
            "text/html": [
              "\n",
              "  <div id=\"df-b0778c75-9f30-4590-8d22-8ae27c62a550\">\n",
              "    <div class=\"colab-df-container\">\n",
              "      <div>\n",
              "<style scoped>\n",
              "    .dataframe tbody tr th:only-of-type {\n",
              "        vertical-align: middle;\n",
              "    }\n",
              "\n",
              "    .dataframe tbody tr th {\n",
              "        vertical-align: top;\n",
              "    }\n",
              "\n",
              "    .dataframe thead th {\n",
              "        text-align: right;\n",
              "    }\n",
              "</style>\n",
              "<table border=\"1\" class=\"dataframe\">\n",
              "  <thead>\n",
              "    <tr style=\"text-align: right;\">\n",
              "      <th></th>\n",
              "      <th>age</th>\n",
              "      <th>anaemia</th>\n",
              "      <th>creatinine_phosphokinase</th>\n",
              "      <th>diabetes</th>\n",
              "      <th>ejection_fraction</th>\n",
              "      <th>high_blood_pressure</th>\n",
              "      <th>platelets</th>\n",
              "      <th>serum_creatinine</th>\n",
              "      <th>serum_sodium</th>\n",
              "      <th>sex</th>\n",
              "      <th>smoking</th>\n",
              "      <th>time</th>\n",
              "      <th>DEATH_EVENT</th>\n",
              "    </tr>\n",
              "  </thead>\n",
              "  <tbody>\n",
              "    <tr>\n",
              "      <th>0</th>\n",
              "      <td>42.0</td>\n",
              "      <td>1</td>\n",
              "      <td>250</td>\n",
              "      <td>1</td>\n",
              "      <td>15</td>\n",
              "      <td>0</td>\n",
              "      <td>213000.00</td>\n",
              "      <td>1.3</td>\n",
              "      <td>136</td>\n",
              "      <td>0</td>\n",
              "      <td>0</td>\n",
              "      <td>65</td>\n",
              "      <td>1</td>\n",
              "    </tr>\n",
              "    <tr>\n",
              "      <th>1</th>\n",
              "      <td>46.0</td>\n",
              "      <td>0</td>\n",
              "      <td>168</td>\n",
              "      <td>1</td>\n",
              "      <td>17</td>\n",
              "      <td>1</td>\n",
              "      <td>271000.00</td>\n",
              "      <td>2.1</td>\n",
              "      <td>124</td>\n",
              "      <td>0</td>\n",
              "      <td>0</td>\n",
              "      <td>100</td>\n",
              "      <td>1</td>\n",
              "    </tr>\n",
              "    <tr>\n",
              "      <th>2</th>\n",
              "      <td>65.0</td>\n",
              "      <td>1</td>\n",
              "      <td>160</td>\n",
              "      <td>1</td>\n",
              "      <td>20</td>\n",
              "      <td>0</td>\n",
              "      <td>327000.00</td>\n",
              "      <td>2.7</td>\n",
              "      <td>116</td>\n",
              "      <td>0</td>\n",
              "      <td>0</td>\n",
              "      <td>8</td>\n",
              "      <td>1</td>\n",
              "    </tr>\n",
              "    <tr>\n",
              "      <th>3</th>\n",
              "      <td>53.0</td>\n",
              "      <td>1</td>\n",
              "      <td>91</td>\n",
              "      <td>0</td>\n",
              "      <td>20</td>\n",
              "      <td>1</td>\n",
              "      <td>418000.00</td>\n",
              "      <td>1.4</td>\n",
              "      <td>139</td>\n",
              "      <td>0</td>\n",
              "      <td>0</td>\n",
              "      <td>43</td>\n",
              "      <td>1</td>\n",
              "    </tr>\n",
              "    <tr>\n",
              "      <th>4</th>\n",
              "      <td>50.0</td>\n",
              "      <td>1</td>\n",
              "      <td>582</td>\n",
              "      <td>1</td>\n",
              "      <td>20</td>\n",
              "      <td>1</td>\n",
              "      <td>279000.00</td>\n",
              "      <td>1.0</td>\n",
              "      <td>134</td>\n",
              "      <td>0</td>\n",
              "      <td>0</td>\n",
              "      <td>186</td>\n",
              "      <td>0</td>\n",
              "    </tr>\n",
              "    <tr>\n",
              "      <th>...</th>\n",
              "      <td>...</td>\n",
              "      <td>...</td>\n",
              "      <td>...</td>\n",
              "      <td>...</td>\n",
              "      <td>...</td>\n",
              "      <td>...</td>\n",
              "      <td>...</td>\n",
              "      <td>...</td>\n",
              "      <td>...</td>\n",
              "      <td>...</td>\n",
              "      <td>...</td>\n",
              "      <td>...</td>\n",
              "      <td>...</td>\n",
              "    </tr>\n",
              "    <tr>\n",
              "      <th>294</th>\n",
              "      <td>63.0</td>\n",
              "      <td>1</td>\n",
              "      <td>122</td>\n",
              "      <td>1</td>\n",
              "      <td>60</td>\n",
              "      <td>0</td>\n",
              "      <td>267000.00</td>\n",
              "      <td>1.2</td>\n",
              "      <td>145</td>\n",
              "      <td>1</td>\n",
              "      <td>0</td>\n",
              "      <td>147</td>\n",
              "      <td>0</td>\n",
              "    </tr>\n",
              "    <tr>\n",
              "      <th>295</th>\n",
              "      <td>45.0</td>\n",
              "      <td>0</td>\n",
              "      <td>308</td>\n",
              "      <td>1</td>\n",
              "      <td>60</td>\n",
              "      <td>1</td>\n",
              "      <td>377000.00</td>\n",
              "      <td>1.0</td>\n",
              "      <td>136</td>\n",
              "      <td>1</td>\n",
              "      <td>0</td>\n",
              "      <td>186</td>\n",
              "      <td>0</td>\n",
              "    </tr>\n",
              "    <tr>\n",
              "      <th>296</th>\n",
              "      <td>70.0</td>\n",
              "      <td>0</td>\n",
              "      <td>97</td>\n",
              "      <td>0</td>\n",
              "      <td>60</td>\n",
              "      <td>1</td>\n",
              "      <td>220000.00</td>\n",
              "      <td>0.9</td>\n",
              "      <td>138</td>\n",
              "      <td>1</td>\n",
              "      <td>0</td>\n",
              "      <td>186</td>\n",
              "      <td>0</td>\n",
              "    </tr>\n",
              "    <tr>\n",
              "      <th>297</th>\n",
              "      <td>53.0</td>\n",
              "      <td>1</td>\n",
              "      <td>446</td>\n",
              "      <td>0</td>\n",
              "      <td>60</td>\n",
              "      <td>1</td>\n",
              "      <td>263358.03</td>\n",
              "      <td>1.0</td>\n",
              "      <td>139</td>\n",
              "      <td>1</td>\n",
              "      <td>0</td>\n",
              "      <td>215</td>\n",
              "      <td>0</td>\n",
              "    </tr>\n",
              "    <tr>\n",
              "      <th>298</th>\n",
              "      <td>50.0</td>\n",
              "      <td>0</td>\n",
              "      <td>582</td>\n",
              "      <td>0</td>\n",
              "      <td>62</td>\n",
              "      <td>1</td>\n",
              "      <td>147000.00</td>\n",
              "      <td>0.8</td>\n",
              "      <td>140</td>\n",
              "      <td>1</td>\n",
              "      <td>1</td>\n",
              "      <td>192</td>\n",
              "      <td>0</td>\n",
              "    </tr>\n",
              "  </tbody>\n",
              "</table>\n",
              "<p>289 rows × 13 columns</p>\n",
              "</div>\n",
              "      <button class=\"colab-df-convert\" onclick=\"convertToInteractive('df-b0778c75-9f30-4590-8d22-8ae27c62a550')\"\n",
              "              title=\"Convert this dataframe to an interactive table.\"\n",
              "              style=\"display:none;\">\n",
              "        \n",
              "  <svg xmlns=\"http://www.w3.org/2000/svg\" height=\"24px\"viewBox=\"0 0 24 24\"\n",
              "       width=\"24px\">\n",
              "    <path d=\"M0 0h24v24H0V0z\" fill=\"none\"/>\n",
              "    <path d=\"M18.56 5.44l.94 2.06.94-2.06 2.06-.94-2.06-.94-.94-2.06-.94 2.06-2.06.94zm-11 1L8.5 8.5l.94-2.06 2.06-.94-2.06-.94L8.5 2.5l-.94 2.06-2.06.94zm10 10l.94 2.06.94-2.06 2.06-.94-2.06-.94-.94-2.06-.94 2.06-2.06.94z\"/><path d=\"M17.41 7.96l-1.37-1.37c-.4-.4-.92-.59-1.43-.59-.52 0-1.04.2-1.43.59L10.3 9.45l-7.72 7.72c-.78.78-.78 2.05 0 2.83L4 21.41c.39.39.9.59 1.41.59.51 0 1.02-.2 1.41-.59l7.78-7.78 2.81-2.81c.8-.78.8-2.07 0-2.86zM5.41 20L4 18.59l7.72-7.72 1.47 1.35L5.41 20z\"/>\n",
              "  </svg>\n",
              "      </button>\n",
              "      \n",
              "  <style>\n",
              "    .colab-df-container {\n",
              "      display:flex;\n",
              "      flex-wrap:wrap;\n",
              "      gap: 12px;\n",
              "    }\n",
              "\n",
              "    .colab-df-convert {\n",
              "      background-color: #E8F0FE;\n",
              "      border: none;\n",
              "      border-radius: 50%;\n",
              "      cursor: pointer;\n",
              "      display: none;\n",
              "      fill: #1967D2;\n",
              "      height: 32px;\n",
              "      padding: 0 0 0 0;\n",
              "      width: 32px;\n",
              "    }\n",
              "\n",
              "    .colab-df-convert:hover {\n",
              "      background-color: #E2EBFA;\n",
              "      box-shadow: 0px 1px 2px rgba(60, 64, 67, 0.3), 0px 1px 3px 1px rgba(60, 64, 67, 0.15);\n",
              "      fill: #174EA6;\n",
              "    }\n",
              "\n",
              "    [theme=dark] .colab-df-convert {\n",
              "      background-color: #3B4455;\n",
              "      fill: #D2E3FC;\n",
              "    }\n",
              "\n",
              "    [theme=dark] .colab-df-convert:hover {\n",
              "      background-color: #434B5C;\n",
              "      box-shadow: 0px 1px 3px 1px rgba(0, 0, 0, 0.15);\n",
              "      filter: drop-shadow(0px 1px 2px rgba(0, 0, 0, 0.3));\n",
              "      fill: #FFFFFF;\n",
              "    }\n",
              "  </style>\n",
              "\n",
              "      <script>\n",
              "        const buttonEl =\n",
              "          document.querySelector('#df-b0778c75-9f30-4590-8d22-8ae27c62a550 button.colab-df-convert');\n",
              "        buttonEl.style.display =\n",
              "          google.colab.kernel.accessAllowed ? 'block' : 'none';\n",
              "\n",
              "        async function convertToInteractive(key) {\n",
              "          const element = document.querySelector('#df-b0778c75-9f30-4590-8d22-8ae27c62a550');\n",
              "          const dataTable =\n",
              "            await google.colab.kernel.invokeFunction('convertToInteractive',\n",
              "                                                     [key], {});\n",
              "          if (!dataTable) return;\n",
              "\n",
              "          const docLinkHtml = 'Like what you see? Visit the ' +\n",
              "            '<a target=\"_blank\" href=https://colab.research.google.com/notebooks/data_table.ipynb>data table notebook</a>'\n",
              "            + ' to learn more about interactive tables.';\n",
              "          element.innerHTML = '';\n",
              "          dataTable['output_type'] = 'display_data';\n",
              "          await google.colab.output.renderOutput(dataTable, element);\n",
              "          const docLink = document.createElement('div');\n",
              "          docLink.innerHTML = docLinkHtml;\n",
              "          element.appendChild(docLink);\n",
              "        }\n",
              "      </script>\n",
              "    </div>\n",
              "  </div>\n",
              "  "
            ],
            "text/plain": [
              "      age  anaemia  creatinine_phosphokinase  diabetes  ejection_fraction  \\\n",
              "0    42.0        1                       250         1                 15   \n",
              "1    46.0        0                       168         1                 17   \n",
              "2    65.0        1                       160         1                 20   \n",
              "3    53.0        1                        91         0                 20   \n",
              "4    50.0        1                       582         1                 20   \n",
              "..    ...      ...                       ...       ...                ...   \n",
              "294  63.0        1                       122         1                 60   \n",
              "295  45.0        0                       308         1                 60   \n",
              "296  70.0        0                        97         0                 60   \n",
              "297  53.0        1                       446         0                 60   \n",
              "298  50.0        0                       582         0                 62   \n",
              "\n",
              "     high_blood_pressure  platelets  serum_creatinine  serum_sodium  sex  \\\n",
              "0                      0  213000.00               1.3           136    0   \n",
              "1                      1  271000.00               2.1           124    0   \n",
              "2                      0  327000.00               2.7           116    0   \n",
              "3                      1  418000.00               1.4           139    0   \n",
              "4                      1  279000.00               1.0           134    0   \n",
              "..                   ...        ...               ...           ...  ...   \n",
              "294                    0  267000.00               1.2           145    1   \n",
              "295                    1  377000.00               1.0           136    1   \n",
              "296                    1  220000.00               0.9           138    1   \n",
              "297                    1  263358.03               1.0           139    1   \n",
              "298                    1  147000.00               0.8           140    1   \n",
              "\n",
              "     smoking  time  DEATH_EVENT  \n",
              "0          0    65            1  \n",
              "1          0   100            1  \n",
              "2          0     8            1  \n",
              "3          0    43            1  \n",
              "4          0   186            0  \n",
              "..       ...   ...          ...  \n",
              "294        0   147            0  \n",
              "295        0   186            0  \n",
              "296        0   186            0  \n",
              "297        0   215            0  \n",
              "298        1   192            0  \n",
              "\n",
              "[289 rows x 13 columns]"
            ]
          },
          "execution_count": 24,
          "metadata": {},
          "output_type": "execute_result"
        }
      ],
      "source": [
        "# Menghapus inference set dari dataset awal\n",
        "\n",
        "data = data.drop(data_inf.index)\n",
        "data"
      ]
    },
    {
      "cell_type": "code",
      "execution_count": 25,
      "metadata": {
        "colab": {
          "base_uri": "https://localhost:8080/",
          "height": 427
        },
        "id": "XRng-yOfvo0c",
        "outputId": "4de04812-3007-47a6-e3b1-58bfd47c8a42"
      },
      "outputs": [
        {
          "data": {
            "text/html": [
              "\n",
              "  <div id=\"df-d713ede3-3539-4fec-af84-8fc73d43b947\">\n",
              "    <div class=\"colab-df-container\">\n",
              "      <div>\n",
              "<style scoped>\n",
              "    .dataframe tbody tr th:only-of-type {\n",
              "        vertical-align: middle;\n",
              "    }\n",
              "\n",
              "    .dataframe tbody tr th {\n",
              "        vertical-align: top;\n",
              "    }\n",
              "\n",
              "    .dataframe thead th {\n",
              "        text-align: right;\n",
              "    }\n",
              "</style>\n",
              "<table border=\"1\" class=\"dataframe\">\n",
              "  <thead>\n",
              "    <tr style=\"text-align: right;\">\n",
              "      <th></th>\n",
              "      <th>age</th>\n",
              "      <th>anaemia</th>\n",
              "      <th>creatinine_phosphokinase</th>\n",
              "      <th>diabetes</th>\n",
              "      <th>ejection_fraction</th>\n",
              "      <th>high_blood_pressure</th>\n",
              "      <th>platelets</th>\n",
              "      <th>serum_creatinine</th>\n",
              "      <th>serum_sodium</th>\n",
              "      <th>sex</th>\n",
              "      <th>smoking</th>\n",
              "      <th>time</th>\n",
              "      <th>DEATH_EVENT</th>\n",
              "    </tr>\n",
              "  </thead>\n",
              "  <tbody>\n",
              "    <tr>\n",
              "      <th>0</th>\n",
              "      <td>73.0</td>\n",
              "      <td>0</td>\n",
              "      <td>582</td>\n",
              "      <td>0</td>\n",
              "      <td>20</td>\n",
              "      <td>0</td>\n",
              "      <td>263358.03</td>\n",
              "      <td>1.83</td>\n",
              "      <td>134</td>\n",
              "      <td>1</td>\n",
              "      <td>0</td>\n",
              "      <td>198</td>\n",
              "      <td>1</td>\n",
              "    </tr>\n",
              "    <tr>\n",
              "      <th>1</th>\n",
              "      <td>65.0</td>\n",
              "      <td>1</td>\n",
              "      <td>113</td>\n",
              "      <td>1</td>\n",
              "      <td>60</td>\n",
              "      <td>1</td>\n",
              "      <td>203000.00</td>\n",
              "      <td>0.90</td>\n",
              "      <td>140</td>\n",
              "      <td>0</td>\n",
              "      <td>0</td>\n",
              "      <td>94</td>\n",
              "      <td>0</td>\n",
              "    </tr>\n",
              "    <tr>\n",
              "      <th>2</th>\n",
              "      <td>50.0</td>\n",
              "      <td>0</td>\n",
              "      <td>250</td>\n",
              "      <td>0</td>\n",
              "      <td>25</td>\n",
              "      <td>0</td>\n",
              "      <td>262000.00</td>\n",
              "      <td>1.00</td>\n",
              "      <td>136</td>\n",
              "      <td>1</td>\n",
              "      <td>1</td>\n",
              "      <td>120</td>\n",
              "      <td>0</td>\n",
              "    </tr>\n",
              "    <tr>\n",
              "      <th>3</th>\n",
              "      <td>63.0</td>\n",
              "      <td>0</td>\n",
              "      <td>193</td>\n",
              "      <td>0</td>\n",
              "      <td>60</td>\n",
              "      <td>1</td>\n",
              "      <td>295000.00</td>\n",
              "      <td>1.30</td>\n",
              "      <td>145</td>\n",
              "      <td>1</td>\n",
              "      <td>1</td>\n",
              "      <td>107</td>\n",
              "      <td>0</td>\n",
              "    </tr>\n",
              "    <tr>\n",
              "      <th>4</th>\n",
              "      <td>59.0</td>\n",
              "      <td>1</td>\n",
              "      <td>176</td>\n",
              "      <td>1</td>\n",
              "      <td>25</td>\n",
              "      <td>0</td>\n",
              "      <td>221000.00</td>\n",
              "      <td>1.00</td>\n",
              "      <td>136</td>\n",
              "      <td>1</td>\n",
              "      <td>1</td>\n",
              "      <td>150</td>\n",
              "      <td>1</td>\n",
              "    </tr>\n",
              "    <tr>\n",
              "      <th>5</th>\n",
              "      <td>72.0</td>\n",
              "      <td>0</td>\n",
              "      <td>211</td>\n",
              "      <td>0</td>\n",
              "      <td>25</td>\n",
              "      <td>0</td>\n",
              "      <td>274000.00</td>\n",
              "      <td>1.20</td>\n",
              "      <td>134</td>\n",
              "      <td>0</td>\n",
              "      <td>0</td>\n",
              "      <td>207</td>\n",
              "      <td>0</td>\n",
              "    </tr>\n",
              "    <tr>\n",
              "      <th>6</th>\n",
              "      <td>90.0</td>\n",
              "      <td>1</td>\n",
              "      <td>47</td>\n",
              "      <td>0</td>\n",
              "      <td>40</td>\n",
              "      <td>1</td>\n",
              "      <td>204000.00</td>\n",
              "      <td>2.10</td>\n",
              "      <td>132</td>\n",
              "      <td>1</td>\n",
              "      <td>1</td>\n",
              "      <td>8</td>\n",
              "      <td>1</td>\n",
              "    </tr>\n",
              "    <tr>\n",
              "      <th>7</th>\n",
              "      <td>65.0</td>\n",
              "      <td>0</td>\n",
              "      <td>582</td>\n",
              "      <td>1</td>\n",
              "      <td>30</td>\n",
              "      <td>0</td>\n",
              "      <td>249000.00</td>\n",
              "      <td>1.30</td>\n",
              "      <td>136</td>\n",
              "      <td>1</td>\n",
              "      <td>1</td>\n",
              "      <td>212</td>\n",
              "      <td>0</td>\n",
              "    </tr>\n",
              "    <tr>\n",
              "      <th>8</th>\n",
              "      <td>50.0</td>\n",
              "      <td>0</td>\n",
              "      <td>318</td>\n",
              "      <td>0</td>\n",
              "      <td>40</td>\n",
              "      <td>1</td>\n",
              "      <td>216000.00</td>\n",
              "      <td>2.30</td>\n",
              "      <td>131</td>\n",
              "      <td>0</td>\n",
              "      <td>0</td>\n",
              "      <td>60</td>\n",
              "      <td>1</td>\n",
              "    </tr>\n",
              "    <tr>\n",
              "      <th>9</th>\n",
              "      <td>55.0</td>\n",
              "      <td>0</td>\n",
              "      <td>1199</td>\n",
              "      <td>0</td>\n",
              "      <td>20</td>\n",
              "      <td>0</td>\n",
              "      <td>263358.03</td>\n",
              "      <td>1.83</td>\n",
              "      <td>134</td>\n",
              "      <td>1</td>\n",
              "      <td>1</td>\n",
              "      <td>241</td>\n",
              "      <td>1</td>\n",
              "    </tr>\n",
              "  </tbody>\n",
              "</table>\n",
              "</div>\n",
              "      <button class=\"colab-df-convert\" onclick=\"convertToInteractive('df-d713ede3-3539-4fec-af84-8fc73d43b947')\"\n",
              "              title=\"Convert this dataframe to an interactive table.\"\n",
              "              style=\"display:none;\">\n",
              "        \n",
              "  <svg xmlns=\"http://www.w3.org/2000/svg\" height=\"24px\"viewBox=\"0 0 24 24\"\n",
              "       width=\"24px\">\n",
              "    <path d=\"M0 0h24v24H0V0z\" fill=\"none\"/>\n",
              "    <path d=\"M18.56 5.44l.94 2.06.94-2.06 2.06-.94-2.06-.94-.94-2.06-.94 2.06-2.06.94zm-11 1L8.5 8.5l.94-2.06 2.06-.94-2.06-.94L8.5 2.5l-.94 2.06-2.06.94zm10 10l.94 2.06.94-2.06 2.06-.94-2.06-.94-.94-2.06-.94 2.06-2.06.94z\"/><path d=\"M17.41 7.96l-1.37-1.37c-.4-.4-.92-.59-1.43-.59-.52 0-1.04.2-1.43.59L10.3 9.45l-7.72 7.72c-.78.78-.78 2.05 0 2.83L4 21.41c.39.39.9.59 1.41.59.51 0 1.02-.2 1.41-.59l7.78-7.78 2.81-2.81c.8-.78.8-2.07 0-2.86zM5.41 20L4 18.59l7.72-7.72 1.47 1.35L5.41 20z\"/>\n",
              "  </svg>\n",
              "      </button>\n",
              "      \n",
              "  <style>\n",
              "    .colab-df-container {\n",
              "      display:flex;\n",
              "      flex-wrap:wrap;\n",
              "      gap: 12px;\n",
              "    }\n",
              "\n",
              "    .colab-df-convert {\n",
              "      background-color: #E8F0FE;\n",
              "      border: none;\n",
              "      border-radius: 50%;\n",
              "      cursor: pointer;\n",
              "      display: none;\n",
              "      fill: #1967D2;\n",
              "      height: 32px;\n",
              "      padding: 0 0 0 0;\n",
              "      width: 32px;\n",
              "    }\n",
              "\n",
              "    .colab-df-convert:hover {\n",
              "      background-color: #E2EBFA;\n",
              "      box-shadow: 0px 1px 2px rgba(60, 64, 67, 0.3), 0px 1px 3px 1px rgba(60, 64, 67, 0.15);\n",
              "      fill: #174EA6;\n",
              "    }\n",
              "\n",
              "    [theme=dark] .colab-df-convert {\n",
              "      background-color: #3B4455;\n",
              "      fill: #D2E3FC;\n",
              "    }\n",
              "\n",
              "    [theme=dark] .colab-df-convert:hover {\n",
              "      background-color: #434B5C;\n",
              "      box-shadow: 0px 1px 3px 1px rgba(0, 0, 0, 0.15);\n",
              "      filter: drop-shadow(0px 1px 2px rgba(0, 0, 0, 0.3));\n",
              "      fill: #FFFFFF;\n",
              "    }\n",
              "  </style>\n",
              "\n",
              "      <script>\n",
              "        const buttonEl =\n",
              "          document.querySelector('#df-d713ede3-3539-4fec-af84-8fc73d43b947 button.colab-df-convert');\n",
              "        buttonEl.style.display =\n",
              "          google.colab.kernel.accessAllowed ? 'block' : 'none';\n",
              "\n",
              "        async function convertToInteractive(key) {\n",
              "          const element = document.querySelector('#df-d713ede3-3539-4fec-af84-8fc73d43b947');\n",
              "          const dataTable =\n",
              "            await google.colab.kernel.invokeFunction('convertToInteractive',\n",
              "                                                     [key], {});\n",
              "          if (!dataTable) return;\n",
              "\n",
              "          const docLinkHtml = 'Like what you see? Visit the ' +\n",
              "            '<a target=\"_blank\" href=https://colab.research.google.com/notebooks/data_table.ipynb>data table notebook</a>'\n",
              "            + ' to learn more about interactive tables.';\n",
              "          element.innerHTML = '';\n",
              "          dataTable['output_type'] = 'display_data';\n",
              "          await google.colab.output.renderOutput(dataTable, element);\n",
              "          const docLink = document.createElement('div');\n",
              "          docLink.innerHTML = docLinkHtml;\n",
              "          element.appendChild(docLink);\n",
              "        }\n",
              "      </script>\n",
              "    </div>\n",
              "  </div>\n",
              "  "
            ],
            "text/plain": [
              "    age  anaemia  creatinine_phosphokinase  diabetes  ejection_fraction  \\\n",
              "0  73.0        0                       582         0                 20   \n",
              "1  65.0        1                       113         1                 60   \n",
              "2  50.0        0                       250         0                 25   \n",
              "3  63.0        0                       193         0                 60   \n",
              "4  59.0        1                       176         1                 25   \n",
              "5  72.0        0                       211         0                 25   \n",
              "6  90.0        1                        47         0                 40   \n",
              "7  65.0        0                       582         1                 30   \n",
              "8  50.0        0                       318         0                 40   \n",
              "9  55.0        0                      1199         0                 20   \n",
              "\n",
              "   high_blood_pressure  platelets  serum_creatinine  serum_sodium  sex  \\\n",
              "0                    0  263358.03              1.83           134    1   \n",
              "1                    1  203000.00              0.90           140    0   \n",
              "2                    0  262000.00              1.00           136    1   \n",
              "3                    1  295000.00              1.30           145    1   \n",
              "4                    0  221000.00              1.00           136    1   \n",
              "5                    0  274000.00              1.20           134    0   \n",
              "6                    1  204000.00              2.10           132    1   \n",
              "7                    0  249000.00              1.30           136    1   \n",
              "8                    1  216000.00              2.30           131    0   \n",
              "9                    0  263358.03              1.83           134    1   \n",
              "\n",
              "   smoking  time  DEATH_EVENT  \n",
              "0        0   198            1  \n",
              "1        0    94            0  \n",
              "2        1   120            0  \n",
              "3        1   107            0  \n",
              "4        1   150            1  \n",
              "5        0   207            0  \n",
              "6        1     8            1  \n",
              "7        1   212            0  \n",
              "8        0    60            1  \n",
              "9        1   241            1  "
            ]
          },
          "execution_count": 25,
          "metadata": {},
          "output_type": "execute_result"
        }
      ],
      "source": [
        "# Reset index pada data Inference dan data awal agar tidak terjadi error\n",
        "\n",
        "data_inf.reset_index(drop=True, inplace=True)\n",
        "data.reset_index(drop=True, inplace=True)\n",
        "\n",
        "data_inf"
      ]
    },
    {
      "cell_type": "markdown",
      "metadata": {
        "id": "BBj2JngQuWik"
      },
      "source": [
        "## Splitting Between Train-Set and Test-Set"
      ]
    },
    {
      "cell_type": "markdown",
      "metadata": {
        "id": "UUjt_-nrURn4"
      },
      "source": [
        "Kita akan memisahkan data menjadi Train-Set dan juga Test-Set"
      ]
    },
    {
      "cell_type": "code",
      "execution_count": 26,
      "metadata": {
        "id": "bDSEzYnKTqrx"
      },
      "outputs": [],
      "source": [
        "# Memisahkan `X` (Features) and `y` (Targets)\n",
        "\n",
        "X = data.drop('DEATH_EVENT', axis=1)\n",
        "y = data['DEATH_EVENT']"
      ]
    },
    {
      "cell_type": "code",
      "execution_count": 27,
      "metadata": {
        "colab": {
          "base_uri": "https://localhost:8080/"
        },
        "id": "uTj1dXnKueFX",
        "outputId": "a8c0ce6c-691e-4378-efe3-79764ee3fe8c"
      },
      "outputs": [
        {
          "name": "stdout",
          "output_type": "stream",
          "text": [
            "Train Size :  (231, 12)\n",
            "Test Size :  (58, 12)\n"
          ]
        }
      ],
      "source": [
        "X_train, X_test, y_train, y_test = train_test_split(X, y, test_size=0.2, random_state=17, stratify=data.DEATH_EVENT)\n",
        "\n",
        "print(\"Train Size : \", X_train.shape)\n",
        "print(\"Test Size : \", X_test.shape)"
      ]
    },
    {
      "cell_type": "markdown",
      "metadata": {
        "id": "8mzROog6bYT6"
      },
      "source": [
        "## Handling Missing Values"
      ]
    },
    {
      "cell_type": "markdown",
      "metadata": {
        "id": "n4Mj6jqNo9vx"
      },
      "source": [
        "Kita akan melakukan check Missing Values pada Train Set dan Test Set"
      ]
    },
    {
      "cell_type": "markdown",
      "metadata": {
        "id": "kzYRt1TGvi9b"
      },
      "source": [
        "### Train_set"
      ]
    },
    {
      "cell_type": "code",
      "execution_count": 28,
      "metadata": {
        "colab": {
          "base_uri": "https://localhost:8080/"
        },
        "id": "YmREDy3FbRyN",
        "outputId": "ccdd36d1-e3ba-4009-eb50-6d0532cf216f"
      },
      "outputs": [
        {
          "data": {
            "text/plain": [
              "age                         0\n",
              "anaemia                     0\n",
              "creatinine_phosphokinase    0\n",
              "diabetes                    0\n",
              "ejection_fraction           0\n",
              "high_blood_pressure         0\n",
              "platelets                   0\n",
              "serum_creatinine            0\n",
              "serum_sodium                0\n",
              "sex                         0\n",
              "smoking                     0\n",
              "time                        0\n",
              "dtype: int64"
            ]
          },
          "execution_count": 28,
          "metadata": {},
          "output_type": "execute_result"
        }
      ],
      "source": [
        "# Mengecek jumlah missing value tiap kolom pada Train-Set\n",
        "\n",
        "X_train.isnull().sum()"
      ]
    },
    {
      "cell_type": "code",
      "execution_count": 29,
      "metadata": {
        "colab": {
          "base_uri": "https://localhost:8080/"
        },
        "id": "FGIjXVhhUQWN",
        "outputId": "518ae94d-4eb1-44f4-9392-6c7803428d16"
      },
      "outputs": [
        {
          "data": {
            "text/plain": [
              "0"
            ]
          },
          "execution_count": 29,
          "metadata": {},
          "output_type": "execute_result"
        }
      ],
      "source": [
        "y_train.isnull().sum()"
      ]
    },
    {
      "cell_type": "markdown",
      "metadata": {
        "id": "h0XCAb534V5t"
      },
      "source": [
        "Kita bisa melihat bahwa tidak ada missing values pada Train Set, selanjutnya kita akan mengecek Test-Set."
      ]
    },
    {
      "cell_type": "markdown",
      "metadata": {
        "id": "WkwkU038wfGL"
      },
      "source": [
        "### Test-Set"
      ]
    },
    {
      "cell_type": "code",
      "execution_count": 30,
      "metadata": {
        "colab": {
          "base_uri": "https://localhost:8080/"
        },
        "id": "pn8B8YuFwg4_",
        "outputId": "91cfefa7-8c32-4ec8-e0c7-5a73d751b4fa"
      },
      "outputs": [
        {
          "data": {
            "text/plain": [
              "age                         0\n",
              "anaemia                     0\n",
              "creatinine_phosphokinase    0\n",
              "diabetes                    0\n",
              "ejection_fraction           0\n",
              "high_blood_pressure         0\n",
              "platelets                   0\n",
              "serum_creatinine            0\n",
              "serum_sodium                0\n",
              "sex                         0\n",
              "smoking                     0\n",
              "time                        0\n",
              "dtype: int64"
            ]
          },
          "execution_count": 30,
          "metadata": {},
          "output_type": "execute_result"
        }
      ],
      "source": [
        "# Mengecek jumlah missing value tiap kolom pada Test-Set\n",
        "\n",
        "X_test.isnull().sum()"
      ]
    },
    {
      "cell_type": "code",
      "execution_count": 31,
      "metadata": {
        "colab": {
          "base_uri": "https://localhost:8080/"
        },
        "id": "U2IdYLFdUWFa",
        "outputId": "ad3dc063-6625-4b87-f2cf-705b8edb9f39"
      },
      "outputs": [
        {
          "data": {
            "text/plain": [
              "0"
            ]
          },
          "execution_count": 31,
          "metadata": {},
          "output_type": "execute_result"
        }
      ],
      "source": [
        "y_test.isnull().sum()"
      ]
    },
    {
      "cell_type": "markdown",
      "metadata": {
        "id": "eDESU4imwm6r"
      },
      "source": [
        "Kita bisa melihat bahwa pada Test-Set juga tidak ada missing values, maka kita bisa melanjutkan ke tahap selanjutnya."
      ]
    },
    {
      "cell_type": "markdown",
      "metadata": {
        "id": "pDmxbQVfbPpO"
      },
      "source": [
        "## Handling Outliers"
      ]
    },
    {
      "cell_type": "markdown",
      "metadata": {
        "id": "CWHfZAS8zYAj"
      },
      "source": [
        "### Check Distribution"
      ]
    },
    {
      "cell_type": "markdown",
      "metadata": {
        "id": "3Eh09HpyqycD"
      },
      "source": [
        "Sebelum menentukan metode handling outliers, kita harus mengetahui tipe distribusi dari data kita."
      ]
    },
    {
      "cell_type": "code",
      "execution_count": 32,
      "metadata": {
        "id": "FpKlNDpiIQv0"
      },
      "outputs": [],
      "source": [
        "def diagnostic_plots(df, variable):\n",
        "    # Define figure size\n",
        "    plt.figure(figsize=(16, 4))\n",
        "\n",
        "    # Histogram\n",
        "    plt.subplot(1, 2, 1)\n",
        "    sns.histplot(df[variable], bins=30)\n",
        "    plt.title('Histogram')\n",
        "\n",
        "    # Boxplot\n",
        "    plt.subplot(1, 2, 2)\n",
        "    sns.boxplot(y=df[variable])\n",
        "    plt.title('Boxplot')\n",
        "\n",
        "    plt.show()\n",
        "\n",
        "    print(variable, 'skewness value : ', df[variable].skew())"
      ]
    },
    {
      "cell_type": "code",
      "execution_count": 33,
      "metadata": {
        "colab": {
          "base_uri": "https://localhost:8080/",
          "height": 1000
        },
        "id": "0pFmJoZwID2O",
        "outputId": "bec3f344-609d-43d4-ec92-303c005f0f10"
      },
      "outputs": [
        {
          "data": {
            "image/png": "[encoded data removed]",
            "text/plain": [
              "<Figure size 1152x288 with 2 Axes>"
            ]
          },
          "metadata": {
            "needs_background": "light"
          },
          "output_type": "display_data"
        },
        {
          "name": "stdout",
          "output_type": "stream",
          "text": [
            "age skewness value :  0.42534795079072013\n"
          ]
        },
        {
          "data": {
            "image/png": "[encoded data removed]",
            "text/plain": [
              "<Figure size 1152x288 with 2 Axes>"
            ]
          },
          "metadata": {
            "needs_background": "light"
          },
          "output_type": "display_data"
        },
        {
          "name": "stdout",
          "output_type": "stream",
          "text": [
            "ejection_fraction skewness value :  0.5222475457552266\n"
          ]
        },
        {
          "data": {
            "image/png": "[encoded data removed]",
            "text/plain": [
              "<Figure size 1152x288 with 2 Axes>"
            ]
          },
          "metadata": {
            "needs_background": "light"
          },
          "output_type": "display_data"
        },
        {
          "name": "stdout",
          "output_type": "stream",
          "text": [
            "serum_creatinine skewness value :  4.10734421613186\n"
          ]
        },
        {
          "data": {
            "image/png": "[encoded data removed]",
            "text/plain": [
              "<Figure size 1152x288 with 2 Axes>"
            ]
          },
          "metadata": {
            "needs_background": "light"
          },
          "output_type": "display_data"
        },
        {
          "name": "stdout",
          "output_type": "stream",
          "text": [
            "serum_sodium skewness value :  -1.098486191740534\n"
          ]
        },
        {
          "data": {
            "image/png": "[encoded data removed]",
            "text/plain": [
              "<Figure size 1152x288 with 2 Axes>"
            ]
          },
          "metadata": {
            "needs_background": "light"
          },
          "output_type": "display_data"
        },
        {
          "name": "stdout",
          "output_type": "stream",
          "text": [
            "time skewness value :  0.18311472521822383\n"
          ]
        }
      ],
      "source": [
        "diagnostic_plots(X_train, 'age')\n",
        "diagnostic_plots(X_train, 'ejection_fraction')\n",
        "diagnostic_plots(X_train, 'serum_creatinine')\n",
        "diagnostic_plots(X_train, 'serum_sodium')\n",
        "diagnostic_plots(X_train, 'time')"
      ]
    },
    {
      "cell_type": "markdown",
      "metadata": {
        "id": "wBok3z41dg4A"
      },
      "source": [
        "Menurut personal jugdement saya, sebaiknya outliers pada data ini tidak perlu dihandling karena merupakan data pasien, terlebih lagi banyak data penting seperti dosis dimana setiap pasien akan berbeda-beda sehingga perbedaan tersebut adalah natural dan bukan outliers."
      ]
    },
    {
      "cell_type": "markdown",
      "metadata": {
        "id": "HFyUCV2zjpEl"
      },
      "source": [
        "## Feature Selection"
      ]
    },
    {
      "cell_type": "markdown",
      "metadata": {
        "id": "mjsYoyKnPqdp"
      },
      "source": [
        "Kita akan memilih feature yang akan digunakan dengan sesuai perhitungan korelasi antar kolom dan juga personal judgement yang berdasarkan informasi di internet.\n",
        "\n",
        "Sumber : \n",
        "https://www.halodoc.com/artikel/waspada-diabetes-bisa-sebabkan-komplikasi-penyakit-jantung-dan-hipertensi"
      ]
    },
    {
      "cell_type": "code",
      "execution_count": 34,
      "metadata": {
        "id": "orsrr5bYbIgS"
      },
      "outputs": [],
      "source": [
        "X_train = X_train[['age', 'ejection_fraction', 'serum_creatinine', 'serum_sodium', 'time', 'diabetes', 'high_blood_pressure']]\n",
        "X_test = X_test[['age', 'ejection_fraction', 'serum_creatinine', 'serum_sodium', 'time', 'diabetes', 'high_blood_pressure']]\n"
      ]
    },
    {
      "cell_type": "code",
      "execution_count": 35,
      "metadata": {
        "colab": {
          "base_uri": "https://localhost:8080/",
          "height": 424
        },
        "id": "ToR5k9IVnFhy",
        "outputId": "ebb65785-9307-4d47-e50b-8264b2c07c0e"
      },
      "outputs": [
        {
          "data": {
            "text/html": [
              "\n",
              "  <div id=\"df-0927c9ba-376c-427e-88ad-8f3ce4d5049d\">\n",
              "    <div class=\"colab-df-container\">\n",
              "      <div>\n",
              "<style scoped>\n",
              "    .dataframe tbody tr th:only-of-type {\n",
              "        vertical-align: middle;\n",
              "    }\n",
              "\n",
              "    .dataframe tbody tr th {\n",
              "        vertical-align: top;\n",
              "    }\n",
              "\n",
              "    .dataframe thead th {\n",
              "        text-align: right;\n",
              "    }\n",
              "</style>\n",
              "<table border=\"1\" class=\"dataframe\">\n",
              "  <thead>\n",
              "    <tr style=\"text-align: right;\">\n",
              "      <th></th>\n",
              "      <th>age</th>\n",
              "      <th>ejection_fraction</th>\n",
              "      <th>serum_creatinine</th>\n",
              "      <th>serum_sodium</th>\n",
              "      <th>time</th>\n",
              "      <th>diabetes</th>\n",
              "      <th>high_blood_pressure</th>\n",
              "    </tr>\n",
              "  </thead>\n",
              "  <tbody>\n",
              "    <tr>\n",
              "      <th>249</th>\n",
              "      <td>60.000</td>\n",
              "      <td>45</td>\n",
              "      <td>6.10</td>\n",
              "      <td>131</td>\n",
              "      <td>107</td>\n",
              "      <td>1</td>\n",
              "      <td>0</td>\n",
              "    </tr>\n",
              "    <tr>\n",
              "      <th>39</th>\n",
              "      <td>70.000</td>\n",
              "      <td>35</td>\n",
              "      <td>1.10</td>\n",
              "      <td>142</td>\n",
              "      <td>245</td>\n",
              "      <td>0</td>\n",
              "      <td>0</td>\n",
              "    </tr>\n",
              "    <tr>\n",
              "      <th>98</th>\n",
              "      <td>60.000</td>\n",
              "      <td>62</td>\n",
              "      <td>6.80</td>\n",
              "      <td>146</td>\n",
              "      <td>43</td>\n",
              "      <td>1</td>\n",
              "      <td>0</td>\n",
              "    </tr>\n",
              "    <tr>\n",
              "      <th>155</th>\n",
              "      <td>60.667</td>\n",
              "      <td>30</td>\n",
              "      <td>1.50</td>\n",
              "      <td>136</td>\n",
              "      <td>171</td>\n",
              "      <td>1</td>\n",
              "      <td>0</td>\n",
              "    </tr>\n",
              "    <tr>\n",
              "      <th>260</th>\n",
              "      <td>90.000</td>\n",
              "      <td>50</td>\n",
              "      <td>1.00</td>\n",
              "      <td>134</td>\n",
              "      <td>30</td>\n",
              "      <td>1</td>\n",
              "      <td>0</td>\n",
              "    </tr>\n",
              "    <tr>\n",
              "      <th>...</th>\n",
              "      <td>...</td>\n",
              "      <td>...</td>\n",
              "      <td>...</td>\n",
              "      <td>...</td>\n",
              "      <td>...</td>\n",
              "      <td>...</td>\n",
              "      <td>...</td>\n",
              "    </tr>\n",
              "    <tr>\n",
              "      <th>32</th>\n",
              "      <td>50.000</td>\n",
              "      <td>35</td>\n",
              "      <td>0.90</td>\n",
              "      <td>142</td>\n",
              "      <td>126</td>\n",
              "      <td>1</td>\n",
              "      <td>0</td>\n",
              "    </tr>\n",
              "    <tr>\n",
              "      <th>230</th>\n",
              "      <td>63.000</td>\n",
              "      <td>40</td>\n",
              "      <td>0.90</td>\n",
              "      <td>137</td>\n",
              "      <td>123</td>\n",
              "      <td>0</td>\n",
              "      <td>0</td>\n",
              "    </tr>\n",
              "    <tr>\n",
              "      <th>275</th>\n",
              "      <td>58.000</td>\n",
              "      <td>60</td>\n",
              "      <td>1.00</td>\n",
              "      <td>141</td>\n",
              "      <td>83</td>\n",
              "      <td>0</td>\n",
              "      <td>1</td>\n",
              "    </tr>\n",
              "    <tr>\n",
              "      <th>46</th>\n",
              "      <td>60.000</td>\n",
              "      <td>38</td>\n",
              "      <td>0.75</td>\n",
              "      <td>140</td>\n",
              "      <td>95</td>\n",
              "      <td>1</td>\n",
              "      <td>0</td>\n",
              "    </tr>\n",
              "    <tr>\n",
              "      <th>148</th>\n",
              "      <td>61.000</td>\n",
              "      <td>30</td>\n",
              "      <td>0.70</td>\n",
              "      <td>136</td>\n",
              "      <td>104</td>\n",
              "      <td>0</td>\n",
              "      <td>1</td>\n",
              "    </tr>\n",
              "  </tbody>\n",
              "</table>\n",
              "<p>231 rows × 7 columns</p>\n",
              "</div>\n",
              "      <button class=\"colab-df-convert\" onclick=\"convertToInteractive('df-0927c9ba-376c-427e-88ad-8f3ce4d5049d')\"\n",
              "              title=\"Convert this dataframe to an interactive table.\"\n",
              "              style=\"display:none;\">\n",
              "        \n",
              "  <svg xmlns=\"http://www.w3.org/2000/svg\" height=\"24px\"viewBox=\"0 0 24 24\"\n",
              "       width=\"24px\">\n",
              "    <path d=\"M0 0h24v24H0V0z\" fill=\"none\"/>\n",
              "    <path d=\"M18.56 5.44l.94 2.06.94-2.06 2.06-.94-2.06-.94-.94-2.06-.94 2.06-2.06.94zm-11 1L8.5 8.5l.94-2.06 2.06-.94-2.06-.94L8.5 2.5l-.94 2.06-2.06.94zm10 10l.94 2.06.94-2.06 2.06-.94-2.06-.94-.94-2.06-.94 2.06-2.06.94z\"/><path d=\"M17.41 7.96l-1.37-1.37c-.4-.4-.92-.59-1.43-.59-.52 0-1.04.2-1.43.59L10.3 9.45l-7.72 7.72c-.78.78-.78 2.05 0 2.83L4 21.41c.39.39.9.59 1.41.59.51 0 1.02-.2 1.41-.59l7.78-7.78 2.81-2.81c.8-.78.8-2.07 0-2.86zM5.41 20L4 18.59l7.72-7.72 1.47 1.35L5.41 20z\"/>\n",
              "  </svg>\n",
              "      </button>\n",
              "      \n",
              "  <style>\n",
              "    .colab-df-container {\n",
              "      display:flex;\n",
              "      flex-wrap:wrap;\n",
              "      gap: 12px;\n",
              "    }\n",
              "\n",
              "    .colab-df-convert {\n",
              "      background-color: #E8F0FE;\n",
              "      border: none;\n",
              "      border-radius: 50%;\n",
              "      cursor: pointer;\n",
              "      display: none;\n",
              "      fill: #1967D2;\n",
              "      height: 32px;\n",
              "      padding: 0 0 0 0;\n",
              "      width: 32px;\n",
              "    }\n",
              "\n",
              "    .colab-df-convert:hover {\n",
              "      background-color: #E2EBFA;\n",
              "      box-shadow: 0px 1px 2px rgba(60, 64, 67, 0.3), 0px 1px 3px 1px rgba(60, 64, 67, 0.15);\n",
              "      fill: #174EA6;\n",
              "    }\n",
              "\n",
              "    [theme=dark] .colab-df-convert {\n",
              "      background-color: #3B4455;\n",
              "      fill: #D2E3FC;\n",
              "    }\n",
              "\n",
              "    [theme=dark] .colab-df-convert:hover {\n",
              "      background-color: #434B5C;\n",
              "      box-shadow: 0px 1px 3px 1px rgba(0, 0, 0, 0.15);\n",
              "      filter: drop-shadow(0px 1px 2px rgba(0, 0, 0, 0.3));\n",
              "      fill: #FFFFFF;\n",
              "    }\n",
              "  </style>\n",
              "\n",
              "      <script>\n",
              "        const buttonEl =\n",
              "          document.querySelector('#df-0927c9ba-376c-427e-88ad-8f3ce4d5049d button.colab-df-convert');\n",
              "        buttonEl.style.display =\n",
              "          google.colab.kernel.accessAllowed ? 'block' : 'none';\n",
              "\n",
              "        async function convertToInteractive(key) {\n",
              "          const element = document.querySelector('#df-0927c9ba-376c-427e-88ad-8f3ce4d5049d');\n",
              "          const dataTable =\n",
              "            await google.colab.kernel.invokeFunction('convertToInteractive',\n",
              "                                                     [key], {});\n",
              "          if (!dataTable) return;\n",
              "\n",
              "          const docLinkHtml = 'Like what you see? Visit the ' +\n",
              "            '<a target=\"_blank\" href=https://colab.research.google.com/notebooks/data_table.ipynb>data table notebook</a>'\n",
              "            + ' to learn more about interactive tables.';\n",
              "          element.innerHTML = '';\n",
              "          dataTable['output_type'] = 'display_data';\n",
              "          await google.colab.output.renderOutput(dataTable, element);\n",
              "          const docLink = document.createElement('div');\n",
              "          docLink.innerHTML = docLinkHtml;\n",
              "          element.appendChild(docLink);\n",
              "        }\n",
              "      </script>\n",
              "    </div>\n",
              "  </div>\n",
              "  "
            ],
            "text/plain": [
              "        age  ejection_fraction  serum_creatinine  serum_sodium  time  \\\n",
              "249  60.000                 45              6.10           131   107   \n",
              "39   70.000                 35              1.10           142   245   \n",
              "98   60.000                 62              6.80           146    43   \n",
              "155  60.667                 30              1.50           136   171   \n",
              "260  90.000                 50              1.00           134    30   \n",
              "..      ...                ...               ...           ...   ...   \n",
              "32   50.000                 35              0.90           142   126   \n",
              "230  63.000                 40              0.90           137   123   \n",
              "275  58.000                 60              1.00           141    83   \n",
              "46   60.000                 38              0.75           140    95   \n",
              "148  61.000                 30              0.70           136   104   \n",
              "\n",
              "     diabetes  high_blood_pressure  \n",
              "249         1                    0  \n",
              "39          0                    0  \n",
              "98          1                    0  \n",
              "155         1                    0  \n",
              "260         1                    0  \n",
              "..        ...                  ...  \n",
              "32          1                    0  \n",
              "230         0                    0  \n",
              "275         0                    1  \n",
              "46          1                    0  \n",
              "148         0                    1  \n",
              "\n",
              "[231 rows x 7 columns]"
            ]
          },
          "execution_count": 35,
          "metadata": {},
          "output_type": "execute_result"
        }
      ],
      "source": [
        "X_train"
      ]
    },
    {
      "cell_type": "markdown",
      "metadata": {
        "id": "6vvMxK0Fddyq"
      },
      "source": [
        "## Split between Numerical Columns and Categorical Columns"
      ]
    },
    {
      "cell_type": "code",
      "execution_count": 36,
      "metadata": {
        "colab": {
          "base_uri": "https://localhost:8080/"
        },
        "id": "llnUbwzqdcs5",
        "outputId": "62d2559a-d183-4d90-c695-0017abbd40a5"
      },
      "outputs": [
        {
          "name": "stdout",
          "output_type": "stream",
          "text": [
            "Normal Numerical Columns :  ['age', 'time']\n",
            "Skewed Numerical Columns :  ['ejection_fraction', 'serum_creatinine', 'serum_sodium']\n",
            "Categorical Columns :  ['diabetes', 'high_blood_pressure']\n"
          ]
        }
      ],
      "source": [
        "# Mendapatkan list Numerical columns sesuai tiper persebarannya dan Categorical columns\n",
        "\n",
        "num_cols_norm = ['age', 'time']\n",
        "num_cols_skew = ['ejection_fraction', 'serum_creatinine', 'serum_sodium']\n",
        "cat_cols = ['diabetes', 'high_blood_pressure']\n",
        "\n",
        "print('Normal Numerical Columns : ', num_cols_norm)\n",
        "print('Skewed Numerical Columns : ', num_cols_skew)\n",
        "print('Categorical Columns : ', cat_cols)"
      ]
    },
    {
      "cell_type": "markdown",
      "metadata": {
        "id": "HFjz426xfeSQ"
      },
      "source": [
        "## Features Engineering"
      ]
    },
    {
      "cell_type": "markdown",
      "metadata": {
        "id": "K9LAKwPI6TEU"
      },
      "source": [
        "Kita akan melakukan scaling dan encoding menggunakan pipeline"
      ]
    },
    {
      "cell_type": "markdown",
      "metadata": {
        "id": "g89SnBYZrThE"
      },
      "source": [
        "Karena semua data kita di atas ada yang bertipe normal dan skewed, maka akan dilakukan:\n",
        "* Scaling menggunakan MinMaxScaler untuk skew.\n",
        "* Scaling menggunakan StandardScaler untuk normal.\n",
        "\n",
        "Untuk kolom categorical tidak perlu lagi dilakukan encoding karena sudah dalam bentuk encoded, jadi kita akan melakukan *passthrough* pada pipeline."
      ]
    },
    {
      "cell_type": "code",
      "execution_count": 37,
      "metadata": {
        "id": "AceW-cBciTMv"
      },
      "outputs": [],
      "source": [
        "# Numeric Features Scaling\n",
        "num_skew = Pipeline([('scaling', MinMaxScaler())])\n",
        "num_norm = Pipeline([('scaling', StandardScaler())])\n",
        "\n",
        "# Preprocessing Pipeline\n",
        "preprocess = ColumnTransformer([\n",
        "    ('norm_scale', num_norm, num_cols_norm),\n",
        "    ('skew_scale', num_skew, num_cols_skew),\n",
        "    ('cat', 'passthrough', cat_cols)\n",
        "])"
      ]
    },
    {
      "cell_type": "markdown",
      "metadata": {
        "id": "SomxdvklnayH"
      },
      "source": [
        "# Model Definition"
      ]
    },
    {
      "cell_type": "markdown",
      "metadata": {
        "id": "goEYnfFDcYYv"
      },
      "source": [
        "Karena kasus kali ini adalah kasus klasifikasi maka kita akan menggunakan model yang khusus untuk klasifikasi dimana kita memilih Random Forest dan Extreme Gradient Boosting."
      ]
    },
    {
      "cell_type": "markdown",
      "metadata": {
        "id": "8iqoM4s7rtTE"
      },
      "source": [
        "Kita akan membuat pipeline untuk tiap model untuk mempersingkat proses."
      ]
    },
    {
      "cell_type": "code",
      "execution_count": 38,
      "metadata": {
        "id": "QMGVMTt6FxFs"
      },
      "outputs": [],
      "source": [
        "# Random Forest Pipeline\n",
        "rfc_pipe = Pipeline([('preprocessing', preprocess), ('rfc', RandomForestClassifier())])\n",
        "\n",
        "# Extreme Gradient Boosting Pipeline\n",
        "xgb_pipe = Pipeline([('preprocessing', preprocess), ('xgb', XGBClassifier())])"
      ]
    },
    {
      "cell_type": "code",
      "execution_count": 39,
      "metadata": {
        "id": "e4FEpnNt7fZm"
      },
      "outputs": [],
      "source": [
        "# Hyperparameter Random Forest dan XGB untuk gridsearch\n",
        "param_rfc = {'rfc__bootstrap': [True],\n",
        "             'rfc__max_depth': [80, 90, 100],\n",
        "             'rfc__max_features': [2, 3],\n",
        "             'rfc__min_samples_leaf': [3, 4, 5],\n",
        "             'rfc__min_samples_split': [8, 10, 12],\n",
        "             'rfc__n_estimators': [100, 200, 300]}\n",
        "\n",
        "param_xgb = {'xgb__max_depth': [1, 5, 10],\n",
        "             'xgb__gamma': [1, 3, 5, 7],\n",
        "             'xgb__eta' : [0.1, 0.2],\n",
        "             'xgb__min_child_weight' : [1, 5, 10],\n",
        "             'xgb__n_estimators': [100, 200]}"
      ]
    },
    {
      "cell_type": "markdown",
      "metadata": {
        "id": "e1VNoERrsIVZ"
      },
      "source": [
        "# Model Training"
      ]
    },
    {
      "cell_type": "markdown",
      "metadata": {
        "id": "pm2a5FhABdbA"
      },
      "source": [
        "## Random Forest"
      ]
    },
    {
      "cell_type": "code",
      "execution_count": 40,
      "metadata": {
        "id": "LO7GZmoL_qqK"
      },
      "outputs": [],
      "source": [
        "grid_rfc = GridSearchCV(rfc_pipe, param_grid=param_rfc, cv=5, n_jobs=-1, return_train_score=True)"
      ]
    },
    {
      "cell_type": "code",
      "execution_count": 41,
      "metadata": {
        "colab": {
          "base_uri": "https://localhost:8080/"
        },
        "id": "QCxmsS-SAG_-",
        "outputId": "b6771aa8-bc16-459f-a1f1-f640352fa262"
      },
      "outputs": [
        {
          "data": {
            "text/plain": [
              "GridSearchCV(cv=5,\n",
              "             estimator=Pipeline(steps=[('preprocessing',\n",
              "                                        ColumnTransformer(transformers=[('norm_scale',\n",
              "                                                                         Pipeline(steps=[('scaling',\n",
              "                                                                                          StandardScaler())]),\n",
              "                                                                         ['age',\n",
              "                                                                          'time']),\n",
              "                                                                        ('skew_scale',\n",
              "                                                                         Pipeline(steps=[('scaling',\n",
              "                                                                                          MinMaxScaler())]),\n",
              "                                                                         ['ejection_fraction',\n",
              "                                                                          'serum_creatinine',\n",
              "                                                                          'serum_sodium']),\n",
              "                                                                        ('cat',\n",
              "                                                                         'passthrough',\n",
              "                                                                         ['diabetes',\n",
              "                                                                          'high_blood_pressure'])])),\n",
              "                                       ('rfc', RandomForestClassifier())]),\n",
              "             n_jobs=-1,\n",
              "             param_grid={'rfc__bootstrap': [True],\n",
              "                         'rfc__max_depth': [80, 90, 100],\n",
              "                         'rfc__max_features': [2, 3],\n",
              "                         'rfc__min_samples_leaf': [3, 4, 5],\n",
              "                         'rfc__min_samples_split': [8, 10, 12],\n",
              "                         'rfc__n_estimators': [100, 200, 300]},\n",
              "             return_train_score=True)"
            ]
          },
          "execution_count": 41,
          "metadata": {},
          "output_type": "execute_result"
        }
      ],
      "source": [
        "grid_rfc.fit(X_train, y_train)"
      ]
    },
    {
      "cell_type": "code",
      "execution_count": 42,
      "metadata": {
        "colab": {
          "base_uri": "https://localhost:8080/"
        },
        "id": "bAi9XPe9BUGZ",
        "outputId": "d34353ba-e213-454b-8727-4c6b1ebfe970"
      },
      "outputs": [
        {
          "data": {
            "text/plain": [
              "Pipeline(steps=[('preprocessing',\n",
              "                 ColumnTransformer(transformers=[('norm_scale',\n",
              "                                                  Pipeline(steps=[('scaling',\n",
              "                                                                   StandardScaler())]),\n",
              "                                                  ['age', 'time']),\n",
              "                                                 ('skew_scale',\n",
              "                                                  Pipeline(steps=[('scaling',\n",
              "                                                                   MinMaxScaler())]),\n",
              "                                                  ['ejection_fraction',\n",
              "                                                   'serum_creatinine',\n",
              "                                                   'serum_sodium']),\n",
              "                                                 ('cat', 'passthrough',\n",
              "                                                  ['diabetes',\n",
              "                                                   'high_blood_pressure'])])),\n",
              "                ('rfc',\n",
              "                 RandomForestClassifier(max_depth=100, max_features=2,\n",
              "                                        min_samples_leaf=5,\n",
              "                                        min_samples_split=10))])"
            ]
          },
          "execution_count": 42,
          "metadata": {},
          "output_type": "execute_result"
        }
      ],
      "source": [
        "grid_rfc.best_estimator_"
      ]
    },
    {
      "cell_type": "markdown",
      "metadata": {
        "id": "5M8ORZZEBgrG"
      },
      "source": [
        "## Extreme Gradient Boosting"
      ]
    },
    {
      "cell_type": "code",
      "execution_count": 43,
      "metadata": {
        "id": "c-r0uhsjBj7M"
      },
      "outputs": [],
      "source": [
        "grid_xgb = GridSearchCV(xgb_pipe, param_grid=param_xgb, cv=5, n_jobs=-1, return_train_score=True)"
      ]
    },
    {
      "cell_type": "code",
      "execution_count": 44,
      "metadata": {
        "colab": {
          "base_uri": "https://localhost:8080/"
        },
        "id": "EKyL7w16BqkM",
        "outputId": "545173f5-b1b8-4a9d-af0c-758608175400"
      },
      "outputs": [
        {
          "data": {
            "text/plain": [
              "GridSearchCV(cv=5,\n",
              "             estimator=Pipeline(steps=[('preprocessing',\n",
              "                                        ColumnTransformer(transformers=[('norm_scale',\n",
              "                                                                         Pipeline(steps=[('scaling',\n",
              "                                                                                          StandardScaler())]),\n",
              "                                                                         ['age',\n",
              "                                                                          'time']),\n",
              "                                                                        ('skew_scale',\n",
              "                                                                         Pipeline(steps=[('scaling',\n",
              "                                                                                          MinMaxScaler())]),\n",
              "                                                                         ['ejection_fraction',\n",
              "                                                                          'serum_creatinine',\n",
              "                                                                          'serum_sodium']),\n",
              "                                                                        ('cat',\n",
              "                                                                         'passthrough',\n",
              "                                                                         ['diabetes',\n",
              "                                                                          'high_blood_pressure'])])),\n",
              "                                       ('xgb', XGBClassifier())]),\n",
              "             n_jobs=-1,\n",
              "             param_grid={'xgb__eta': [0.1, 0.2], 'xgb__gamma': [1, 3, 5, 7],\n",
              "                         'xgb__max_depth': [1, 5, 10],\n",
              "                         'xgb__min_child_weight': [1, 5, 10],\n",
              "                         'xgb__n_estimators': [100, 200]},\n",
              "             return_train_score=True)"
            ]
          },
          "execution_count": 44,
          "metadata": {},
          "output_type": "execute_result"
        }
      ],
      "source": [
        "grid_xgb.fit(X_train, y_train)"
      ]
    },
    {
      "cell_type": "code",
      "execution_count": 45,
      "metadata": {
        "colab": {
          "base_uri": "https://localhost:8080/"
        },
        "id": "pdpLQ_6YEAGF",
        "outputId": "6ab2ba54-c60c-475c-cc77-7cd6cce22f40"
      },
      "outputs": [
        {
          "data": {
            "text/plain": [
              "Pipeline(steps=[('preprocessing',\n",
              "                 ColumnTransformer(transformers=[('norm_scale',\n",
              "                                                  Pipeline(steps=[('scaling',\n",
              "                                                                   StandardScaler())]),\n",
              "                                                  ['age', 'time']),\n",
              "                                                 ('skew_scale',\n",
              "                                                  Pipeline(steps=[('scaling',\n",
              "                                                                   MinMaxScaler())]),\n",
              "                                                  ['ejection_fraction',\n",
              "                                                   'serum_creatinine',\n",
              "                                                   'serum_sodium']),\n",
              "                                                 ('cat', 'passthrough',\n",
              "                                                  ['diabetes',\n",
              "                                                   'high_blood_pressure'])])),\n",
              "                ('xgb',\n",
              "                 XGBClassifier(eta=0.1, gamma=1, max_depth=5,\n",
              "                               min_child_weight=5))])"
            ]
          },
          "execution_count": 45,
          "metadata": {},
          "output_type": "execute_result"
        }
      ],
      "source": [
        "grid_xgb.best_estimator_"
      ]
    },
    {
      "cell_type": "markdown",
      "metadata": {
        "id": "ALW9dccTsIXv"
      },
      "source": [
        "# Model Evaluation"
      ]
    },
    {
      "cell_type": "markdown",
      "metadata": {
        "id": "u-VMYfks3Qfp"
      },
      "source": [
        "## Random Forest"
      ]
    },
    {
      "cell_type": "code",
      "execution_count": 46,
      "metadata": {
        "colab": {
          "base_uri": "https://localhost:8080/"
        },
        "id": "YukgR8nM1pBj",
        "outputId": "629d33d8-086b-4c87-aeb3-9f4326b9580d"
      },
      "outputs": [
        {
          "name": "stdout",
          "output_type": "stream",
          "text": [
            "----Training Set----\n",
            "              precision    recall  f1-score   support\n",
            "\n",
            "           0       0.92      0.96      0.93       158\n",
            "           1       0.89      0.81      0.85        73\n",
            "\n",
            "    accuracy                           0.91       231\n",
            "   macro avg       0.90      0.88      0.89       231\n",
            "weighted avg       0.91      0.91      0.91       231\n",
            "\n",
            "----Testing Set----\n",
            "              precision    recall  f1-score   support\n",
            "\n",
            "           0       0.85      0.88      0.86        40\n",
            "           1       0.71      0.67      0.69        18\n",
            "\n",
            "    accuracy                           0.81        58\n",
            "   macro avg       0.78      0.77      0.77        58\n",
            "weighted avg       0.81      0.81      0.81        58\n",
            "\n"
          ]
        }
      ],
      "source": [
        "print('----Training Set----')\n",
        "print(classification_report(y_train, grid_rfc.best_estimator_.predict(X_train)))\n",
        "print('----Testing Set----')\n",
        "print(classification_report(y_test, grid_rfc.best_estimator_.predict(X_test)))"
      ]
    },
    {
      "cell_type": "code",
      "execution_count": 47,
      "metadata": {
        "colab": {
          "base_uri": "https://localhost:8080/",
          "height": 295
        },
        "id": "JcnlDgB9sR7N",
        "outputId": "0c389cd3-2e23-4689-e993-cb45240f3700"
      },
      "outputs": [
        {
          "data": {
            "image/png": "[encoded data removed]",
            "text/plain": [
              "<Figure size 432x288 with 2 Axes>"
            ]
          },
          "metadata": {
            "needs_background": "light"
          },
          "output_type": "display_data"
        }
      ],
      "source": [
        "ConfusionMatrixDisplay.from_predictions(y_train, grid_rfc.best_estimator_.predict(X_train))\n",
        "plt.title('Training Set')\n",
        "plt.show()"
      ]
    },
    {
      "cell_type": "code",
      "execution_count": 48,
      "metadata": {
        "colab": {
          "base_uri": "https://localhost:8080/",
          "height": 295
        },
        "id": "2ROjzH48sdRh",
        "outputId": "89362229-21ae-4282-c44a-5cad29791b93"
      },
      "outputs": [
        {
          "data": {
            "image/png": "[encoded data removed]",
            "text/plain": [
              "<Figure size 432x288 with 2 Axes>"
            ]
          },
          "metadata": {
            "needs_background": "light"
          },
          "output_type": "display_data"
        }
      ],
      "source": [
        "ConfusionMatrixDisplay.from_predictions(y_test, grid_rfc.best_estimator_.predict(X_test))\n",
        "plt.title('Testing Set')\n",
        "plt.show()"
      ]
    },
    {
      "cell_type": "markdown",
      "metadata": {
        "id": "crL5lVj1zkE2"
      },
      "source": [
        "Kita bisa melihat score hasil dari model Random Forest lumayan bagus namun memiliki score yang overfit. Hasil Train score menunjukan precision yang tinggi untuk label 0 sebesar 0.93 dan label 1 sebesar 0.90, sedangkan untuk recall pada label 0 sebesar 0.96 dan label 1 sebesar 0.84. Hasil pada Test menunjukan score yang lebih rendah dimana untuk precision pada label 0 sebesar 0.85 dan label 1 sebesar 0.71 sedangkan untuk recall label 0 sebesar 0.88 dan label 1 sebesar 0.67."
      ]
    },
    {
      "cell_type": "markdown",
      "metadata": {
        "id": "H__XneFm3SW6"
      },
      "source": [
        "## Extreme Gradient Boosting"
      ]
    },
    {
      "cell_type": "code",
      "execution_count": 49,
      "metadata": {
        "colab": {
          "base_uri": "https://localhost:8080/"
        },
        "id": "en5BjgKT3VRo",
        "outputId": "da345247-810b-4937-c61b-0d0384b88ff0"
      },
      "outputs": [
        {
          "name": "stdout",
          "output_type": "stream",
          "text": [
            "----Training Set----\n",
            "              precision    recall  f1-score   support\n",
            "\n",
            "           0       0.92      0.94      0.93       158\n",
            "           1       0.87      0.82      0.85        73\n",
            "\n",
            "    accuracy                           0.90       231\n",
            "   macro avg       0.89      0.88      0.89       231\n",
            "weighted avg       0.90      0.90      0.90       231\n",
            "\n",
            "----Testing Set----\n",
            "              precision    recall  f1-score   support\n",
            "\n",
            "           0       0.88      0.90      0.89        40\n",
            "           1       0.76      0.72      0.74        18\n",
            "\n",
            "    accuracy                           0.84        58\n",
            "   macro avg       0.82      0.81      0.82        58\n",
            "weighted avg       0.84      0.84      0.84        58\n",
            "\n"
          ]
        }
      ],
      "source": [
        "print('----Training Set----')\n",
        "print(classification_report(y_train, grid_xgb.best_estimator_.predict(X_train)))\n",
        "print('----Testing Set----')\n",
        "print(classification_report(y_test, grid_xgb.best_estimator_.predict(X_test)))"
      ]
    },
    {
      "cell_type": "code",
      "execution_count": 50,
      "metadata": {
        "colab": {
          "base_uri": "https://localhost:8080/",
          "height": 295
        },
        "id": "sc1RRmfbtDfo",
        "outputId": "51df2c55-a5d9-4812-8237-864285f5fc4d"
      },
      "outputs": [
        {
          "data": {
            "image/png": "[encoded data removed]",
            "text/plain": [
              "<Figure size 432x288 with 2 Axes>"
            ]
          },
          "metadata": {
            "needs_background": "light"
          },
          "output_type": "display_data"
        }
      ],
      "source": [
        "ConfusionMatrixDisplay.from_predictions(y_train, grid_xgb.best_estimator_.predict(X_train))\n",
        "plt.title('Training Set')\n",
        "plt.show()"
      ]
    },
    {
      "cell_type": "code",
      "execution_count": 51,
      "metadata": {
        "colab": {
          "base_uri": "https://localhost:8080/",
          "height": 295
        },
        "id": "QDqkyspCtEgM",
        "outputId": "9ffa20b9-d2ca-4012-fd02-78da33844eab"
      },
      "outputs": [
        {
          "data": {
            "image/png": "[encoded data removed]",
            "text/plain": [
              "<Figure size 432x288 with 2 Axes>"
            ]
          },
          "metadata": {
            "needs_background": "light"
          },
          "output_type": "display_data"
        }
      ],
      "source": [
        "ConfusionMatrixDisplay.from_predictions(y_test, grid_xgb.best_estimator_.predict(X_test))\n",
        "plt.title('Testing Set')\n",
        "plt.show()"
      ]
    },
    {
      "cell_type": "markdown",
      "metadata": {
        "id": "2bnPhuqL383G"
      },
      "source": [
        "Model XGB menghasilkan score yang overfit juga tapi gapnya lebih kecil dibandingkan dengan model Random Forest. Hasil Train score menunjukan precision yang cukup tinggi untuk label 0 sebesar 0.92 dan label 1 sebesar 0.87, sedangkan untuk recall pada label 0 sebesar 0.94 dan label 1 sebesar 0.82. Hasil pada Test menunjukan score yang lebih sedikit lebih rendah dimana untuk precision pada label 0 sebesar 0.88 dan label 1 sebesar 0.76 sedangkan untuk recall label 0 sebesar 0.90 dan label 1 sebesar 0.72."
      ]
    },
    {
      "cell_type": "markdown",
      "metadata": {
        "id": "GpgvwKfstP0s"
      },
      "source": [
        "## Model Analysis"
      ]
    },
    {
      "cell_type": "markdown",
      "metadata": {
        "id": "5YBrW4y04e_Q"
      },
      "source": [
        "Dalam kasus ini karena merupakan kasus diagnosa kesehatan kita akan berfokus untuk mengurangi false negatif sehingga kita akan lebih berfokus pada recall label 1 dimana klasifikasi label 1 adalah orang yang meninggal saat sakit gagal jantung. Jika kita salah mendiagnosa orang yang akan meninggal dan diklasifikasikan sehat maka akan bahaya karena kurangnya penanganan nanti."
      ]
    },
    {
      "cell_type": "markdown",
      "metadata": {
        "id": "xvWNX89iHpwd"
      },
      "source": [
        "Kedua model menghasilkan hasil score yang lumayan tinggi namun kedua model kita overfit meskipun model Random Forest lebih overfit dibandingkan dengan model XGB. Dalam Train-Set Random Forest menghasilkan nilai yang lebih tinggi dibandingkan dengan model XGB namun pada Test-Set, model XGB mendapatkan hasil yang lebih tinggi daripada model Random Forest."
      ]
    },
    {
      "cell_type": "markdown",
      "metadata": {
        "id": "70eHvSDAIKTz"
      },
      "source": [
        "Recall label 1 Train Set :\n",
        "* Model RFC berhasil mengklasifikasi 61 orang meninggal saat gagal jantung dengan benar, namun gagal mengklasifikas 12 orang yang seharusnya akan meninggal namun diprediksi tidak akan meninggal.\n",
        "* Model XGB berhasil mengklasifikasi 60 orang meninggal saat gagal jantung dengan benar, namun gagal mengklasifikas 13 orang yang seharusnya akan meninggal namun diprediksi tidak akan meninggal.\n",
        "\n",
        "Recall label 1 Test Set :\n",
        "* Model RFC berhasil mengklasifikasi 12 orang meninggal saat gagal jantung dengan benar, namun gagal mengklasifikas 6 orang yang seharusnya akan meninggal namun diprediksi tidak akan meninggal.\n",
        "* Model XGB berhasil mengklasifikasi 13 orang meninggal saat gagal jantung dengan benar, namun gagal mengklasifikas 5 orang yang seharusnya akan meninggal namun diprediksi tidak akan meninggal."
      ]
    },
    {
      "cell_type": "markdown",
      "metadata": {
        "id": "Fh3PKH9PsIaH"
      },
      "source": [
        "# Model Inference"
      ]
    },
    {
      "cell_type": "markdown",
      "metadata": {
        "id": "A0ZZ1xEGyA3I"
      },
      "source": [
        "## Inferencing"
      ]
    },
    {
      "cell_type": "markdown",
      "metadata": {
        "id": "tHNElGgDRgxh"
      },
      "source": [
        "Sebelum melakukan evaluasi pada Inference Set, kita akan melakukan tahapan preprocessing yang sama dengan yang dilakukan pada Test-Set. Kita akan menggunakan hasil gridsearch yang didalamnya sudah terdapat pipeline untuk preprocess dan juga model hasil tuning."
      ]
    },
    {
      "cell_type": "code",
      "execution_count": 52,
      "metadata": {
        "colab": {
          "base_uri": "https://localhost:8080/",
          "height": 363
        },
        "id": "cLhtsIKTQlGE",
        "outputId": "a87e9d92-0820-4a00-d0f7-4286d123d2af"
      },
      "outputs": [
        {
          "data": {
            "text/html": [
              "\n",
              "  <div id=\"df-b7555a94-ba65-4f55-9ea4-aa267c5d14c0\">\n",
              "    <div class=\"colab-df-container\">\n",
              "      <div>\n",
              "<style scoped>\n",
              "    .dataframe tbody tr th:only-of-type {\n",
              "        vertical-align: middle;\n",
              "    }\n",
              "\n",
              "    .dataframe tbody tr th {\n",
              "        vertical-align: top;\n",
              "    }\n",
              "\n",
              "    .dataframe thead th {\n",
              "        text-align: right;\n",
              "    }\n",
              "</style>\n",
              "<table border=\"1\" class=\"dataframe\">\n",
              "  <thead>\n",
              "    <tr style=\"text-align: right;\">\n",
              "      <th></th>\n",
              "      <th>age</th>\n",
              "      <th>ejection_fraction</th>\n",
              "      <th>serum_creatinine</th>\n",
              "      <th>serum_sodium</th>\n",
              "      <th>time</th>\n",
              "      <th>diabetes</th>\n",
              "      <th>high_blood_pressure</th>\n",
              "    </tr>\n",
              "  </thead>\n",
              "  <tbody>\n",
              "    <tr>\n",
              "      <th>0</th>\n",
              "      <td>73.0</td>\n",
              "      <td>20</td>\n",
              "      <td>1.83</td>\n",
              "      <td>134</td>\n",
              "      <td>198</td>\n",
              "      <td>0</td>\n",
              "      <td>0</td>\n",
              "    </tr>\n",
              "    <tr>\n",
              "      <th>1</th>\n",
              "      <td>65.0</td>\n",
              "      <td>60</td>\n",
              "      <td>0.90</td>\n",
              "      <td>140</td>\n",
              "      <td>94</td>\n",
              "      <td>1</td>\n",
              "      <td>1</td>\n",
              "    </tr>\n",
              "    <tr>\n",
              "      <th>2</th>\n",
              "      <td>50.0</td>\n",
              "      <td>25</td>\n",
              "      <td>1.00</td>\n",
              "      <td>136</td>\n",
              "      <td>120</td>\n",
              "      <td>0</td>\n",
              "      <td>0</td>\n",
              "    </tr>\n",
              "    <tr>\n",
              "      <th>3</th>\n",
              "      <td>63.0</td>\n",
              "      <td>60</td>\n",
              "      <td>1.30</td>\n",
              "      <td>145</td>\n",
              "      <td>107</td>\n",
              "      <td>0</td>\n",
              "      <td>1</td>\n",
              "    </tr>\n",
              "    <tr>\n",
              "      <th>4</th>\n",
              "      <td>59.0</td>\n",
              "      <td>25</td>\n",
              "      <td>1.00</td>\n",
              "      <td>136</td>\n",
              "      <td>150</td>\n",
              "      <td>1</td>\n",
              "      <td>0</td>\n",
              "    </tr>\n",
              "    <tr>\n",
              "      <th>5</th>\n",
              "      <td>72.0</td>\n",
              "      <td>25</td>\n",
              "      <td>1.20</td>\n",
              "      <td>134</td>\n",
              "      <td>207</td>\n",
              "      <td>0</td>\n",
              "      <td>0</td>\n",
              "    </tr>\n",
              "    <tr>\n",
              "      <th>6</th>\n",
              "      <td>90.0</td>\n",
              "      <td>40</td>\n",
              "      <td>2.10</td>\n",
              "      <td>132</td>\n",
              "      <td>8</td>\n",
              "      <td>0</td>\n",
              "      <td>1</td>\n",
              "    </tr>\n",
              "    <tr>\n",
              "      <th>7</th>\n",
              "      <td>65.0</td>\n",
              "      <td>30</td>\n",
              "      <td>1.30</td>\n",
              "      <td>136</td>\n",
              "      <td>212</td>\n",
              "      <td>1</td>\n",
              "      <td>0</td>\n",
              "    </tr>\n",
              "    <tr>\n",
              "      <th>8</th>\n",
              "      <td>50.0</td>\n",
              "      <td>40</td>\n",
              "      <td>2.30</td>\n",
              "      <td>131</td>\n",
              "      <td>60</td>\n",
              "      <td>0</td>\n",
              "      <td>1</td>\n",
              "    </tr>\n",
              "    <tr>\n",
              "      <th>9</th>\n",
              "      <td>55.0</td>\n",
              "      <td>20</td>\n",
              "      <td>1.83</td>\n",
              "      <td>134</td>\n",
              "      <td>241</td>\n",
              "      <td>0</td>\n",
              "      <td>0</td>\n",
              "    </tr>\n",
              "  </tbody>\n",
              "</table>\n",
              "</div>\n",
              "      <button class=\"colab-df-convert\" onclick=\"convertToInteractive('df-b7555a94-ba65-4f55-9ea4-aa267c5d14c0')\"\n",
              "              title=\"Convert this dataframe to an interactive table.\"\n",
              "              style=\"display:none;\">\n",
              "        \n",
              "  <svg xmlns=\"http://www.w3.org/2000/svg\" height=\"24px\"viewBox=\"0 0 24 24\"\n",
              "       width=\"24px\">\n",
              "    <path d=\"M0 0h24v24H0V0z\" fill=\"none\"/>\n",
              "    <path d=\"M18.56 5.44l.94 2.06.94-2.06 2.06-.94-2.06-.94-.94-2.06-.94 2.06-2.06.94zm-11 1L8.5 8.5l.94-2.06 2.06-.94-2.06-.94L8.5 2.5l-.94 2.06-2.06.94zm10 10l.94 2.06.94-2.06 2.06-.94-2.06-.94-.94-2.06-.94 2.06-2.06.94z\"/><path d=\"M17.41 7.96l-1.37-1.37c-.4-.4-.92-.59-1.43-.59-.52 0-1.04.2-1.43.59L10.3 9.45l-7.72 7.72c-.78.78-.78 2.05 0 2.83L4 21.41c.39.39.9.59 1.41.59.51 0 1.02-.2 1.41-.59l7.78-7.78 2.81-2.81c.8-.78.8-2.07 0-2.86zM5.41 20L4 18.59l7.72-7.72 1.47 1.35L5.41 20z\"/>\n",
              "  </svg>\n",
              "      </button>\n",
              "      \n",
              "  <style>\n",
              "    .colab-df-container {\n",
              "      display:flex;\n",
              "      flex-wrap:wrap;\n",
              "      gap: 12px;\n",
              "    }\n",
              "\n",
              "    .colab-df-convert {\n",
              "      background-color: #E8F0FE;\n",
              "      border: none;\n",
              "      border-radius: 50%;\n",
              "      cursor: pointer;\n",
              "      display: none;\n",
              "      fill: #1967D2;\n",
              "      height: 32px;\n",
              "      padding: 0 0 0 0;\n",
              "      width: 32px;\n",
              "    }\n",
              "\n",
              "    .colab-df-convert:hover {\n",
              "      background-color: #E2EBFA;\n",
              "      box-shadow: 0px 1px 2px rgba(60, 64, 67, 0.3), 0px 1px 3px 1px rgba(60, 64, 67, 0.15);\n",
              "      fill: #174EA6;\n",
              "    }\n",
              "\n",
              "    [theme=dark] .colab-df-convert {\n",
              "      background-color: #3B4455;\n",
              "      fill: #D2E3FC;\n",
              "    }\n",
              "\n",
              "    [theme=dark] .colab-df-convert:hover {\n",
              "      background-color: #434B5C;\n",
              "      box-shadow: 0px 1px 3px 1px rgba(0, 0, 0, 0.15);\n",
              "      filter: drop-shadow(0px 1px 2px rgba(0, 0, 0, 0.3));\n",
              "      fill: #FFFFFF;\n",
              "    }\n",
              "  </style>\n",
              "\n",
              "      <script>\n",
              "        const buttonEl =\n",
              "          document.querySelector('#df-b7555a94-ba65-4f55-9ea4-aa267c5d14c0 button.colab-df-convert');\n",
              "        buttonEl.style.display =\n",
              "          google.colab.kernel.accessAllowed ? 'block' : 'none';\n",
              "\n",
              "        async function convertToInteractive(key) {\n",
              "          const element = document.querySelector('#df-b7555a94-ba65-4f55-9ea4-aa267c5d14c0');\n",
              "          const dataTable =\n",
              "            await google.colab.kernel.invokeFunction('convertToInteractive',\n",
              "                                                     [key], {});\n",
              "          if (!dataTable) return;\n",
              "\n",
              "          const docLinkHtml = 'Like what you see? Visit the ' +\n",
              "            '<a target=\"_blank\" href=https://colab.research.google.com/notebooks/data_table.ipynb>data table notebook</a>'\n",
              "            + ' to learn more about interactive tables.';\n",
              "          element.innerHTML = '';\n",
              "          dataTable['output_type'] = 'display_data';\n",
              "          await google.colab.output.renderOutput(dataTable, element);\n",
              "          const docLink = document.createElement('div');\n",
              "          docLink.innerHTML = docLinkHtml;\n",
              "          element.appendChild(docLink);\n",
              "        }\n",
              "      </script>\n",
              "    </div>\n",
              "  </div>\n",
              "  "
            ],
            "text/plain": [
              "    age  ejection_fraction  serum_creatinine  serum_sodium  time  diabetes  \\\n",
              "0  73.0                 20              1.83           134   198         0   \n",
              "1  65.0                 60              0.90           140    94         1   \n",
              "2  50.0                 25              1.00           136   120         0   \n",
              "3  63.0                 60              1.30           145   107         0   \n",
              "4  59.0                 25              1.00           136   150         1   \n",
              "5  72.0                 25              1.20           134   207         0   \n",
              "6  90.0                 40              2.10           132     8         0   \n",
              "7  65.0                 30              1.30           136   212         1   \n",
              "8  50.0                 40              2.30           131    60         0   \n",
              "9  55.0                 20              1.83           134   241         0   \n",
              "\n",
              "   high_blood_pressure  \n",
              "0                    0  \n",
              "1                    1  \n",
              "2                    0  \n",
              "3                    1  \n",
              "4                    0  \n",
              "5                    0  \n",
              "6                    1  \n",
              "7                    0  \n",
              "8                    1  \n",
              "9                    0  "
            ]
          },
          "execution_count": 52,
          "metadata": {},
          "output_type": "execute_result"
        }
      ],
      "source": [
        "# Memilih fitur yang akan digunakan\n",
        "data_inf_ = data_inf[['age', 'ejection_fraction', 'serum_creatinine', 'serum_sodium', 'time', 'diabetes', 'high_blood_pressure']]\n",
        "data_inf_"
      ]
    },
    {
      "cell_type": "code",
      "execution_count": 59,
      "metadata": {
        "id": "oG5Fp7OYRYts"
      },
      "outputs": [],
      "source": [
        "# melakukan predict pada inference set\n",
        "rfc_y_pred_inf = grid_rfc.best_estimator_.predict(data_inf_)\n",
        "xgb_y_pred_inf = grid_xgb.best_estimator_.predict(data_inf_)"
      ]
    },
    {
      "cell_type": "code",
      "execution_count": 60,
      "metadata": {
        "id": "5ygNfuELRv_k"
      },
      "outputs": [],
      "source": [
        "# Membuat hasil prediksi menjadi dataframe\n",
        "y_pred_inf_rfc = pd.DataFrame(rfc_y_pred_inf, columns=['RFC_Tuned_Pred'])\n",
        "y_pred_inf_xgb = pd.DataFrame(xgb_y_pred_inf, columns=['XGB_Tuned_Pred'])"
      ]
    },
    {
      "cell_type": "code",
      "execution_count": 61,
      "metadata": {
        "colab": {
          "base_uri": "https://localhost:8080/",
          "height": 363
        },
        "id": "6MclorCfR35C",
        "outputId": "7da35ef0-58e0-476e-ad8d-b2a8e5e8b466"
      },
      "outputs": [
        {
          "data": {
            "text/html": [
              "\n",
              "  <div id=\"df-a784802a-aa03-4504-9c76-8f36f9b1cd14\">\n",
              "    <div class=\"colab-df-container\">\n",
              "      <div>\n",
              "<style scoped>\n",
              "    .dataframe tbody tr th:only-of-type {\n",
              "        vertical-align: middle;\n",
              "    }\n",
              "\n",
              "    .dataframe tbody tr th {\n",
              "        vertical-align: top;\n",
              "    }\n",
              "\n",
              "    .dataframe thead th {\n",
              "        text-align: right;\n",
              "    }\n",
              "</style>\n",
              "<table border=\"1\" class=\"dataframe\">\n",
              "  <thead>\n",
              "    <tr style=\"text-align: right;\">\n",
              "      <th></th>\n",
              "      <th>DEATH_EVENT</th>\n",
              "      <th>RFC_Tuned_Pred</th>\n",
              "      <th>XGB_Tuned_Pred</th>\n",
              "    </tr>\n",
              "  </thead>\n",
              "  <tbody>\n",
              "    <tr>\n",
              "      <th>0</th>\n",
              "      <td>1</td>\n",
              "      <td>1</td>\n",
              "      <td>0</td>\n",
              "    </tr>\n",
              "    <tr>\n",
              "      <th>1</th>\n",
              "      <td>0</td>\n",
              "      <td>0</td>\n",
              "      <td>0</td>\n",
              "    </tr>\n",
              "    <tr>\n",
              "      <th>2</th>\n",
              "      <td>0</td>\n",
              "      <td>0</td>\n",
              "      <td>0</td>\n",
              "    </tr>\n",
              "    <tr>\n",
              "      <th>3</th>\n",
              "      <td>0</td>\n",
              "      <td>0</td>\n",
              "      <td>0</td>\n",
              "    </tr>\n",
              "    <tr>\n",
              "      <th>4</th>\n",
              "      <td>1</td>\n",
              "      <td>0</td>\n",
              "      <td>0</td>\n",
              "    </tr>\n",
              "    <tr>\n",
              "      <th>5</th>\n",
              "      <td>0</td>\n",
              "      <td>0</td>\n",
              "      <td>0</td>\n",
              "    </tr>\n",
              "    <tr>\n",
              "      <th>6</th>\n",
              "      <td>1</td>\n",
              "      <td>1</td>\n",
              "      <td>1</td>\n",
              "    </tr>\n",
              "    <tr>\n",
              "      <th>7</th>\n",
              "      <td>0</td>\n",
              "      <td>0</td>\n",
              "      <td>0</td>\n",
              "    </tr>\n",
              "    <tr>\n",
              "      <th>8</th>\n",
              "      <td>1</td>\n",
              "      <td>1</td>\n",
              "      <td>1</td>\n",
              "    </tr>\n",
              "    <tr>\n",
              "      <th>9</th>\n",
              "      <td>1</td>\n",
              "      <td>0</td>\n",
              "      <td>0</td>\n",
              "    </tr>\n",
              "  </tbody>\n",
              "</table>\n",
              "</div>\n",
              "      <button class=\"colab-df-convert\" onclick=\"convertToInteractive('df-a784802a-aa03-4504-9c76-8f36f9b1cd14')\"\n",
              "              title=\"Convert this dataframe to an interactive table.\"\n",
              "              style=\"display:none;\">\n",
              "        \n",
              "  <svg xmlns=\"http://www.w3.org/2000/svg\" height=\"24px\"viewBox=\"0 0 24 24\"\n",
              "       width=\"24px\">\n",
              "    <path d=\"M0 0h24v24H0V0z\" fill=\"none\"/>\n",
              "    <path d=\"M18.56 5.44l.94 2.06.94-2.06 2.06-.94-2.06-.94-.94-2.06-.94 2.06-2.06.94zm-11 1L8.5 8.5l.94-2.06 2.06-.94-2.06-.94L8.5 2.5l-.94 2.06-2.06.94zm10 10l.94 2.06.94-2.06 2.06-.94-2.06-.94-.94-2.06-.94 2.06-2.06.94z\"/><path d=\"M17.41 7.96l-1.37-1.37c-.4-.4-.92-.59-1.43-.59-.52 0-1.04.2-1.43.59L10.3 9.45l-7.72 7.72c-.78.78-.78 2.05 0 2.83L4 21.41c.39.39.9.59 1.41.59.51 0 1.02-.2 1.41-.59l7.78-7.78 2.81-2.81c.8-.78.8-2.07 0-2.86zM5.41 20L4 18.59l7.72-7.72 1.47 1.35L5.41 20z\"/>\n",
              "  </svg>\n",
              "      </button>\n",
              "      \n",
              "  <style>\n",
              "    .colab-df-container {\n",
              "      display:flex;\n",
              "      flex-wrap:wrap;\n",
              "      gap: 12px;\n",
              "    }\n",
              "\n",
              "    .colab-df-convert {\n",
              "      background-color: #E8F0FE;\n",
              "      border: none;\n",
              "      border-radius: 50%;\n",
              "      cursor: pointer;\n",
              "      display: none;\n",
              "      fill: #1967D2;\n",
              "      height: 32px;\n",
              "      padding: 0 0 0 0;\n",
              "      width: 32px;\n",
              "    }\n",
              "\n",
              "    .colab-df-convert:hover {\n",
              "      background-color: #E2EBFA;\n",
              "      box-shadow: 0px 1px 2px rgba(60, 64, 67, 0.3), 0px 1px 3px 1px rgba(60, 64, 67, 0.15);\n",
              "      fill: #174EA6;\n",
              "    }\n",
              "\n",
              "    [theme=dark] .colab-df-convert {\n",
              "      background-color: #3B4455;\n",
              "      fill: #D2E3FC;\n",
              "    }\n",
              "\n",
              "    [theme=dark] .colab-df-convert:hover {\n",
              "      background-color: #434B5C;\n",
              "      box-shadow: 0px 1px 3px 1px rgba(0, 0, 0, 0.15);\n",
              "      filter: drop-shadow(0px 1px 2px rgba(0, 0, 0, 0.3));\n",
              "      fill: #FFFFFF;\n",
              "    }\n",
              "  </style>\n",
              "\n",
              "      <script>\n",
              "        const buttonEl =\n",
              "          document.querySelector('#df-a784802a-aa03-4504-9c76-8f36f9b1cd14 button.colab-df-convert');\n",
              "        buttonEl.style.display =\n",
              "          google.colab.kernel.accessAllowed ? 'block' : 'none';\n",
              "\n",
              "        async function convertToInteractive(key) {\n",
              "          const element = document.querySelector('#df-a784802a-aa03-4504-9c76-8f36f9b1cd14');\n",
              "          const dataTable =\n",
              "            await google.colab.kernel.invokeFunction('convertToInteractive',\n",
              "                                                     [key], {});\n",
              "          if (!dataTable) return;\n",
              "\n",
              "          const docLinkHtml = 'Like what you see? Visit the ' +\n",
              "            '<a target=\"_blank\" href=https://colab.research.google.com/notebooks/data_table.ipynb>data table notebook</a>'\n",
              "            + ' to learn more about interactive tables.';\n",
              "          element.innerHTML = '';\n",
              "          dataTable['output_type'] = 'display_data';\n",
              "          await google.colab.output.renderOutput(dataTable, element);\n",
              "          const docLink = document.createElement('div');\n",
              "          docLink.innerHTML = docLinkHtml;\n",
              "          element.appendChild(docLink);\n",
              "        }\n",
              "      </script>\n",
              "    </div>\n",
              "  </div>\n",
              "  "
            ],
            "text/plain": [
              "   DEATH_EVENT  RFC_Tuned_Pred  XGB_Tuned_Pred\n",
              "0            1               1               0\n",
              "1            0               0               0\n",
              "2            0               0               0\n",
              "3            0               0               0\n",
              "4            1               0               0\n",
              "5            0               0               0\n",
              "6            1               1               1\n",
              "7            0               0               0\n",
              "8            1               1               1\n",
              "9            1               0               0"
            ]
          },
          "execution_count": 61,
          "metadata": {},
          "output_type": "execute_result"
        }
      ],
      "source": [
        "pred_inf = pd.concat([data_inf['DEATH_EVENT'], y_pred_inf_rfc, y_pred_inf_xgb], axis=1)\n",
        "pred_inf"
      ]
    },
    {
      "cell_type": "code",
      "execution_count": 62,
      "metadata": {
        "colab": {
          "base_uri": "https://localhost:8080/"
        },
        "id": "lIvwmFjnTxNJ",
        "outputId": "1b70148b-1903-4c18-9ee4-b63fb68604ff"
      },
      "outputs": [
        {
          "name": "stdout",
          "output_type": "stream",
          "text": [
            "----Random Forest----\n",
            "              precision    recall  f1-score   support\n",
            "\n",
            "           0       0.71      1.00      0.83         5\n",
            "           1       1.00      0.60      0.75         5\n",
            "\n",
            "    accuracy                           0.80        10\n",
            "   macro avg       0.86      0.80      0.79        10\n",
            "weighted avg       0.86      0.80      0.79        10\n",
            "\n",
            "----XGB----\n",
            "              precision    recall  f1-score   support\n",
            "\n",
            "           0       0.62      1.00      0.77         5\n",
            "           1       1.00      0.40      0.57         5\n",
            "\n",
            "    accuracy                           0.70        10\n",
            "   macro avg       0.81      0.70      0.67        10\n",
            "weighted avg       0.81      0.70      0.67        10\n",
            "\n"
          ]
        }
      ],
      "source": [
        "print('----Random Forest----')\n",
        "print(classification_report(data_inf['DEATH_EVENT'], y_pred_inf_rfc))\n",
        "print('----XGB----')\n",
        "print(classification_report(data_inf['DEATH_EVENT'], y_pred_inf_xgb))"
      ]
    },
    {
      "cell_type": "code",
      "execution_count": 63,
      "metadata": {
        "colab": {
          "base_uri": "https://localhost:8080/",
          "height": 295
        },
        "id": "OVTZqOiIUMBk",
        "outputId": "beac4afd-41c0-4569-aaef-505bdb7c1af3"
      },
      "outputs": [
        {
          "data": {
            "image/png": "[encoded data removed]",
            "text/plain": [
              "<Figure size 432x288 with 2 Axes>"
            ]
          },
          "metadata": {
            "needs_background": "light"
          },
          "output_type": "display_data"
        }
      ],
      "source": [
        "ConfusionMatrixDisplay.from_predictions(data_inf['DEATH_EVENT'], grid_rfc.best_estimator_.predict(data_inf_))\n",
        "plt.title('Random Forest')\n",
        "plt.show()"
      ]
    },
    {
      "cell_type": "code",
      "execution_count": 64,
      "metadata": {
        "colab": {
          "base_uri": "https://localhost:8080/",
          "height": 295
        },
        "id": "v7E-y96GvZzX",
        "outputId": "2b022d30-defe-42e1-e4f2-7d4aada321ce"
      },
      "outputs": [
        {
          "data": {
            "image/png": "[encoded data removed]",
            "text/plain": [
              "<Figure size 432x288 with 2 Axes>"
            ]
          },
          "metadata": {
            "needs_background": "light"
          },
          "output_type": "display_data"
        }
      ],
      "source": [
        "ConfusionMatrixDisplay.from_predictions(data_inf['DEATH_EVENT'], grid_xgb.best_estimator_.predict(data_inf_))\n",
        "plt.title('Extreme Gradient Boost')\n",
        "plt.show()"
      ]
    },
    {
      "cell_type": "markdown",
      "metadata": {
        "id": "O3ddrU2USB-x"
      },
      "source": [
        "Pada Inference set kedua mode kita mendapatkan hasil score yang cukup bagus pada precision maupun recall. Model RFC mendapatkan score precision pada label 0 sebesar 0.71 dan pada label 1 mendapatkan score 1.0, sedangkan pada recall label 0 mendaptkan score 1.0 dan pada label 1 mendapatkan score 0.60. Model XGB menghasilkan score precision label 0 sebesar 0.62 dan label 1 sebesar 1.0, sedangkan pada recall label 0 mendapatkan score 1.0 dan recall label 1 mendapatkan score 0.40."
      ]
    },
    {
      "cell_type": "markdown",
      "metadata": {
        "id": "8m0e7jCksIcc"
      },
      "source": [
        "# Kesimpulan"
      ]
    },
    {
      "cell_type": "markdown",
      "metadata": {
        "id": "du4HlJ-AMoaQ"
      },
      "source": [
        "Dataset kali ini berisikan data-data pasien yang mengalami gagal jantung dengan target klasifikasi apakah pasien meninggal atau tidak. Dataset ini berisi seperti jenis kelamin pasien, merokok atau tidak, diabetes atau tidak, memiliki anemia atau tidak, memiliki hipertensi atau tidak, dan lain sebagainya. Pasien yang mengalami gagal jantung ini kebanyakan adalah pria. Usia rata-rata pasien dalam data ini adalah 65 tahun dimana usia terkceil adalah 40 tahun dan hal itu menunjukan gagal jantung menyerang orang tua. Kita juga bisa melihat bahwa kebanyakan pasien ternyata tidak memiliki diabetes ataupun darah tinggi. Persentase orang yang merokok juga lebih sedikit dibandingkan yang merokok.\n",
        "\n",
        "Dari banyak kolom dalam data kita, dilakukanlah perhitungan korelasi antar kolom dan menunjukan kolom yang mempengaruhi seorang pasien meninggal atau tidak adalah kolom `age`, `ejection_fraction`,\t`serum_creatinine`,\t`serum_sodium`,\t`time`. Saya juga menambahkan kolom menurut personal judgement saya dan juga informasi di internet bahwa `diabetes` dan `high_blood_pressure` juga mempengaruhi.\n",
        "\n",
        "Model yang dipilih untuk mengatasi kasus ini adalah model Random Forest dan model Extreme Gradient Boosting. Kedua model itu dilakukan train menggunakan gridsearch untuk mencari hyperparameter terbaik untuk kedua model.\n",
        "\n",
        "Kedua model menghasilkan hasil score yang sangat baik dalam menangani kasus ini, namun kedua model ini mengalami overfit meskipun berbeda gapnya. Secara keseluruhan model Random Forest menghasilkan nilai lebih tinggi dalam Train-Set sedangkan model XGB lebih bagus dalam Test-Set. Model Random Forest mengalami overfit dengan gap sekitar 10% antara Train dan Test sedangkan model XGB memiliki gap sekitar 6% antara Train dan Test. Dalam inference set, kedua model kita berhasil memperoleh nilai recall sebesar 1.0 pada label 0 namun hanya 0.6 untuk model RFC dan 0.4 untuk model XGB pada label 1, dimana sebenarnya kita lebih fokus pada recall label 1 dalam kasus ini.\n",
        "\n",
        "Jadi menurut saya model yang lebih bagus adalah model XGB karena mendapatkan hasil Test yang lebih tinggi dibandingkan dengan Random Forest dan juga gap antara Train dan Testnya tidak terlalu jauh jika dibandingkan dengan Random Forest. Untuk peningkatannya saya rasa jika targetnya lebih balance maka hasil recall pada label 1 akan lebih baik terlebih kita berfokus pada label 1."
      ]
    },
    {
      "cell_type": "markdown",
      "metadata": {
        "id": "dH03SahnMY0V"
      },
      "source": [
        "# Soal"
      ]
    },
    {
      "cell_type": "markdown",
      "metadata": {
        "id": "XB4jgf6DMZ1i"
      },
      "source": [
        "## Soal 1"
      ]
    },
    {
      "cell_type": "markdown",
      "metadata": {
        "id": "c_LurpoHMbzO"
      },
      "source": [
        "Apakah yang dimaksud dengan Bagging?"
      ]
    },
    {
      "cell_type": "markdown",
      "metadata": {
        "id": "NOnatChCMeqS"
      },
      "source": [
        "Bagging merupakan singkatan dari bootstrap dan aggregating, dimana terjadi proses pengacakan dan penduplikasian data (bootstrap) untuk menghasilkan set pelatihan L (learning), yang akan digunakan untuk melatih model yang sama sejumlah n, dan kemudian, selama pengujian, mengambil rata-rata nilai dari n model tersebut."
      ]
    },
    {
      "cell_type": "markdown",
      "metadata": {
        "id": "ELLopaZEMf-Z"
      },
      "source": [
        "## Soal 2"
      ]
    },
    {
      "cell_type": "markdown",
      "metadata": {
        "id": "IcYSZpuHMhGR"
      },
      "source": [
        "Jelaskan perbedaan algoritma Random Forest dengan algoritma boosting yang Anda pilih?"
      ]
    },
    {
      "cell_type": "markdown",
      "metadata": {
        "id": "mL7jZXWMMkld"
      },
      "source": [
        "Random Forest pada dasarnya merupakan salah satu algoritma bagging sedangkan XGB merupakan salah satu algoritma boosting. Letak perbedaanya adalah baggin melakukan training model secara pararel dan bersamaan dimana hasilnya dilakukan agregating sedangkan algoritma boosing melakukan train secara sequential dimana satu model akan menghasilkan output dulu baru disalurkan ke model selanjutnya untuk train dan seterusnya."
      ]
    }
  ],
  "metadata": {
    "colab": {
      "provenance": [],
      "toc_visible": true
    },
    "kernelspec": {
      "display_name": "Python 3.10.6 ('base')",
      "language": "python",
      "name": "python3"
    },
    "language_info": {
      "name": "python",
      "version": "3.10.6"
    },
    "vscode": {
      "interpreter": {
        "hash": "bf4b1448ec145300fc1b5b1d9d1ef2d48be8f47ff96597fe96799ebbd6cb5771"
      }
    }
  },
  "nbformat": 4,
  "nbformat_minor": 0
}
